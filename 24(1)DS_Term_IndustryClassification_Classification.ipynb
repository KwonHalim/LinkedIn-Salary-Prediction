{
  "cells": [
    {
      "cell_type": "code",
      "execution_count": null,
      "metadata": {
        "colab": {
          "base_uri": "https://localhost:8080/"
        },
        "id": "ZEOx5d-nNAq8",
        "outputId": "d4ba5136-9c87-4aa4-db70-71740aeffa2d"
      },
      "outputs": [
        {
          "name": "stdout",
          "output_type": "stream",
          "text": [
            "Mounted at /content/drive\n"
          ]
        }
      ],
      "source": [
        "from google.colab import drive\n",
        "drive.mount('/content/drive')"
      ]
    },
    {
      "cell_type": "markdown",
      "metadata": {
        "id": "7D-dXxsK72tA"
      },
      "source": [
        "Import Libraries"
      ]
    },
    {
      "cell_type": "code",
      "execution_count": null,
      "metadata": {
        "colab": {
          "base_uri": "https://localhost:8080/"
        },
        "id": "AYJQ-LX175v5",
        "outputId": "378c7299-c785-4cb0-d9eb-e0499fad6256"
      },
      "outputs": [
        {
          "name": "stdout",
          "output_type": "stream",
          "text": [
            "Collecting wordcloud\n",
            "  Downloading wordcloud-1.9.3-cp310-cp310-manylinux_2_17_x86_64.manylinux2014_x86_64.whl (511 kB)\n",
            "\u001b[2K     \u001b[90m━━━━━━━━━━━━━━━━━━━━━━━━━━━━━━━━━━━━━━━━\u001b[0m \u001b[32m511.1/511.1 kB\u001b[0m \u001b[31m2.9 MB/s\u001b[0m eta \u001b[36m0:00:00\u001b[0m\n",
            "\u001b[?25hRequirement already satisfied: numpy>=1.6.1 in /usr/local/lib/python3.10/dist-packages (from wordcloud) (1.25.2)\n",
            "Requirement already satisfied: pillow in /usr/local/lib/python3.10/dist-packages (from wordcloud) (10.3.0)\n",
            "Requirement already satisfied: matplotlib in /usr/local/lib/python3.10/dist-packages (from wordcloud) (3.7.1)\n",
            "Requirement already satisfied: contourpy>=1.0.1 in /usr/local/lib/python3.10/dist-packages (from matplotlib->wordcloud) (1.2.1)\n",
            "Requirement already satisfied: cycler>=0.10 in /usr/local/lib/python3.10/dist-packages (from matplotlib->wordcloud) (0.12.1)\n",
            "Requirement already satisfied: fonttools>=4.22.0 in /usr/local/lib/python3.10/dist-packages (from matplotlib->wordcloud) (4.51.0)\n",
            "Requirement already satisfied: kiwisolver>=1.0.1 in /usr/local/lib/python3.10/dist-packages (from matplotlib->wordcloud) (1.4.5)\n",
            "Requirement already satisfied: packaging>=20.0 in /usr/local/lib/python3.10/dist-packages (from matplotlib->wordcloud) (24.0)\n",
            "Requirement already satisfied: pyparsing>=2.3.1 in /usr/local/lib/python3.10/dist-packages (from matplotlib->wordcloud) (3.1.2)\n",
            "Requirement already satisfied: python-dateutil>=2.7 in /usr/local/lib/python3.10/dist-packages (from matplotlib->wordcloud) (2.9.0.post0)\n",
            "Requirement already satisfied: six>=1.5 in /usr/local/lib/python3.10/dist-packages (from python-dateutil>=2.7->matplotlib->wordcloud) (1.16.0)\n",
            "Installing collected packages: wordcloud\n",
            "Successfully installed wordcloud-1.9.3\n"
          ]
        }
      ],
      "source": [
        "!pip install wordcloud"
      ]
    },
    {
      "cell_type": "code",
      "execution_count": null,
      "metadata": {
        "id": "LtRNeFDnNPRO"
      },
      "outputs": [],
      "source": [
        "import pandas as pd\n",
        "import numpy as np\n",
        "import matplotlib.pyplot as plt\n",
        "import seaborn as sns\n",
        "import wordcloud\n",
        "import warnings\n",
        "warnings.filterwarnings('ignore')"
      ]
    },
    {
      "cell_type": "code",
      "execution_count": null,
      "metadata": {
        "colab": {
          "base_uri": "https://localhost:8080/",
          "height": 206
        },
        "id": "fWgPmmM8NQo_",
        "outputId": "0a96e66b-9f25-4c6c-e639-86df08b62cc0"
      },
      "outputs": [
        {
          "data": {
            "application/vnd.google.colaboratory.intrinsic+json": {
              "summary": "{\n  \"name\": \"df\",\n  \"rows\": 24549,\n  \"fields\": [\n    {\n      \"column\": \"Unnamed: 0\",\n      \"properties\": {\n        \"dtype\": \"number\",\n        \"std\": 7086,\n        \"min\": 0,\n        \"max\": 24548,\n        \"num_unique_values\": 24549,\n        \"samples\": [\n          17492,\n          12778,\n          20964\n        ],\n        \"semantic_type\": \"\",\n        \"description\": \"\"\n      }\n    },\n    {\n      \"column\": \"job_id\",\n      \"properties\": {\n        \"dtype\": \"number\",\n        \"std\": 67312344,\n        \"min\": 133114754,\n        \"max\": 3757940104,\n        \"num_unique_values\": 24549,\n        \"samples\": [\n          3693067891,\n          3756110983,\n          3701304484\n        ],\n        \"semantic_type\": \"\",\n        \"description\": \"\"\n      }\n    },\n    {\n      \"column\": \"company_id\",\n      \"properties\": {\n        \"dtype\": \"number\",\n        \"std\": 16450601,\n        \"min\": 1009,\n        \"max\": 101059464,\n        \"num_unique_values\": 7405,\n        \"samples\": [\n          5345313,\n          2282875,\n          3607419\n        ],\n        \"semantic_type\": \"\",\n        \"description\": \"\"\n      }\n    },\n    {\n      \"column\": \"speciality\",\n      \"properties\": {\n        \"dtype\": \"category\",\n        \"num_unique_values\": 7370,\n        \"samples\": [\n          \"marketing brand strategy advertising creative business business communication medium interactive medium search engine marketing search engine optimization public relation social medium print radio television web design content development user experience\",\n          \"consulting service software development\",\n          \"talent acquisition recruiting talent assessment talent mentor coaching talent development partner business transformation practice consulting business transformation talent partner\"\n        ],\n        \"semantic_type\": \"\",\n        \"description\": \"\"\n      }\n    },\n    {\n      \"column\": \"company_size\",\n      \"properties\": {\n        \"dtype\": \"number\",\n        \"std\": 1,\n        \"min\": 1,\n        \"max\": 7,\n        \"num_unique_values\": 7,\n        \"samples\": [\n          5,\n          4,\n          2\n        ],\n        \"semantic_type\": \"\",\n        \"description\": \"\"\n      }\n    },\n    {\n      \"column\": \"industry\",\n      \"properties\": {\n        \"dtype\": \"category\",\n        \"num_unique_values\": 277,\n        \"samples\": [\n          \"hospitality\",\n          \"consumer electronics computer electronics manufacture\",\n          \"chemical\"\n        ],\n        \"semantic_type\": \"\",\n        \"description\": \"\"\n      }\n    },\n    {\n      \"column\": \"skill\",\n      \"properties\": {\n        \"dtype\": \"category\",\n        \"num_unique_values\": 1560,\n        \"samples\": [\n          \"sale business development purchasing\",\n          \"management administration finance\",\n          \"strategy management administration\"\n        ],\n        \"semantic_type\": \"\",\n        \"description\": \"\"\n      }\n    }\n  ]\n}",
              "type": "dataframe",
              "variable_name": "df"
            },
            "text/html": [
              "\n",
              "  <div id=\"df-e50762c8-600e-4a7a-9395-6663a5cfa3db\" class=\"colab-df-container\">\n",
              "    <div>\n",
              "<style scoped>\n",
              "    .dataframe tbody tr th:only-of-type {\n",
              "        vertical-align: middle;\n",
              "    }\n",
              "\n",
              "    .dataframe tbody tr th {\n",
              "        vertical-align: top;\n",
              "    }\n",
              "\n",
              "    .dataframe thead th {\n",
              "        text-align: right;\n",
              "    }\n",
              "</style>\n",
              "<table border=\"1\" class=\"dataframe\">\n",
              "  <thead>\n",
              "    <tr style=\"text-align: right;\">\n",
              "      <th></th>\n",
              "      <th>Unnamed: 0</th>\n",
              "      <th>job_id</th>\n",
              "      <th>company_id</th>\n",
              "      <th>speciality</th>\n",
              "      <th>company_size</th>\n",
              "      <th>industry</th>\n",
              "      <th>skill</th>\n",
              "    </tr>\n",
              "  </thead>\n",
              "  <tbody>\n",
              "    <tr>\n",
              "      <th>0</th>\n",
              "      <td>0</td>\n",
              "      <td>3757940104</td>\n",
              "      <td>553718</td>\n",
              "      <td>digital hearing instrument behind ear ear open...</td>\n",
              "      <td>5</td>\n",
              "      <td>retail</td>\n",
              "      <td>other</td>\n",
              "    </tr>\n",
              "    <tr>\n",
              "      <th>1</th>\n",
              "      <td>1</td>\n",
              "      <td>3757754488</td>\n",
              "      <td>553718</td>\n",
              "      <td>digital hearing instrument behind ear ear open...</td>\n",
              "      <td>5</td>\n",
              "      <td>retail</td>\n",
              "      <td>health care provider</td>\n",
              "    </tr>\n",
              "    <tr>\n",
              "      <th>2</th>\n",
              "      <td>2</td>\n",
              "      <td>3757940025</td>\n",
              "      <td>2192142</td>\n",
              "      <td>metal fabrication machining robotic welding en...</td>\n",
              "      <td>4</td>\n",
              "      <td>industrial machinery manufacturing</td>\n",
              "      <td>management manufacturing</td>\n",
              "    </tr>\n",
              "    <tr>\n",
              "      <th>3</th>\n",
              "      <td>3</td>\n",
              "      <td>3757934539</td>\n",
              "      <td>2192142</td>\n",
              "      <td>metal fabrication machining robotic welding en...</td>\n",
              "      <td>4</td>\n",
              "      <td>industrial machinery manufacturing</td>\n",
              "      <td>management manufacturing</td>\n",
              "    </tr>\n",
              "    <tr>\n",
              "      <th>4</th>\n",
              "      <td>4</td>\n",
              "      <td>3757938019</td>\n",
              "      <td>474443</td>\n",
              "      <td>roller chain engineering class chain sprocket ...</td>\n",
              "      <td>4</td>\n",
              "      <td>automation machinery manufacturing</td>\n",
              "      <td>engineering</td>\n",
              "    </tr>\n",
              "  </tbody>\n",
              "</table>\n",
              "</div>\n",
              "    <div class=\"colab-df-buttons\">\n",
              "\n",
              "  <div class=\"colab-df-container\">\n",
              "    <button class=\"colab-df-convert\" onclick=\"convertToInteractive('df-e50762c8-600e-4a7a-9395-6663a5cfa3db')\"\n",
              "            title=\"Convert this dataframe to an interactive table.\"\n",
              "            style=\"display:none;\">\n",
              "\n",
              "  <svg xmlns=\"http://www.w3.org/2000/svg\" height=\"24px\" viewBox=\"0 -960 960 960\">\n",
              "    <path d=\"M120-120v-720h720v720H120Zm60-500h600v-160H180v160Zm220 220h160v-160H400v160Zm0 220h160v-160H400v160ZM180-400h160v-160H180v160Zm440 0h160v-160H620v160ZM180-180h160v-160H180v160Zm440 0h160v-160H620v160Z\"/>\n",
              "  </svg>\n",
              "    </button>\n",
              "\n",
              "  <style>\n",
              "    .colab-df-container {\n",
              "      display:flex;\n",
              "      gap: 12px;\n",
              "    }\n",
              "\n",
              "    .colab-df-convert {\n",
              "      background-color: #E8F0FE;\n",
              "      border: none;\n",
              "      border-radius: 50%;\n",
              "      cursor: pointer;\n",
              "      display: none;\n",
              "      fill: #1967D2;\n",
              "      height: 32px;\n",
              "      padding: 0 0 0 0;\n",
              "      width: 32px;\n",
              "    }\n",
              "\n",
              "    .colab-df-convert:hover {\n",
              "      background-color: #E2EBFA;\n",
              "      box-shadow: 0px 1px 2px rgba(60, 64, 67, 0.3), 0px 1px 3px 1px rgba(60, 64, 67, 0.15);\n",
              "      fill: #174EA6;\n",
              "    }\n",
              "\n",
              "    .colab-df-buttons div {\n",
              "      margin-bottom: 4px;\n",
              "    }\n",
              "\n",
              "    [theme=dark] .colab-df-convert {\n",
              "      background-color: #3B4455;\n",
              "      fill: #D2E3FC;\n",
              "    }\n",
              "\n",
              "    [theme=dark] .colab-df-convert:hover {\n",
              "      background-color: #434B5C;\n",
              "      box-shadow: 0px 1px 3px 1px rgba(0, 0, 0, 0.15);\n",
              "      filter: drop-shadow(0px 1px 2px rgba(0, 0, 0, 0.3));\n",
              "      fill: #FFFFFF;\n",
              "    }\n",
              "  </style>\n",
              "\n",
              "    <script>\n",
              "      const buttonEl =\n",
              "        document.querySelector('#df-e50762c8-600e-4a7a-9395-6663a5cfa3db button.colab-df-convert');\n",
              "      buttonEl.style.display =\n",
              "        google.colab.kernel.accessAllowed ? 'block' : 'none';\n",
              "\n",
              "      async function convertToInteractive(key) {\n",
              "        const element = document.querySelector('#df-e50762c8-600e-4a7a-9395-6663a5cfa3db');\n",
              "        const dataTable =\n",
              "          await google.colab.kernel.invokeFunction('convertToInteractive',\n",
              "                                                    [key], {});\n",
              "        if (!dataTable) return;\n",
              "\n",
              "        const docLinkHtml = 'Like what you see? Visit the ' +\n",
              "          '<a target=\"_blank\" href=https://colab.research.google.com/notebooks/data_table.ipynb>data table notebook</a>'\n",
              "          + ' to learn more about interactive tables.';\n",
              "        element.innerHTML = '';\n",
              "        dataTable['output_type'] = 'display_data';\n",
              "        await google.colab.output.renderOutput(dataTable, element);\n",
              "        const docLink = document.createElement('div');\n",
              "        docLink.innerHTML = docLinkHtml;\n",
              "        element.appendChild(docLink);\n",
              "      }\n",
              "    </script>\n",
              "  </div>\n",
              "\n",
              "\n",
              "<div id=\"df-763bb51c-92d8-43e5-9ce6-6810900036e7\">\n",
              "  <button class=\"colab-df-quickchart\" onclick=\"quickchart('df-763bb51c-92d8-43e5-9ce6-6810900036e7')\"\n",
              "            title=\"Suggest charts\"\n",
              "            style=\"display:none;\">\n",
              "\n",
              "<svg xmlns=\"http://www.w3.org/2000/svg\" height=\"24px\"viewBox=\"0 0 24 24\"\n",
              "     width=\"24px\">\n",
              "    <g>\n",
              "        <path d=\"M19 3H5c-1.1 0-2 .9-2 2v14c0 1.1.9 2 2 2h14c1.1 0 2-.9 2-2V5c0-1.1-.9-2-2-2zM9 17H7v-7h2v7zm4 0h-2V7h2v10zm4 0h-2v-4h2v4z\"/>\n",
              "    </g>\n",
              "</svg>\n",
              "  </button>\n",
              "\n",
              "<style>\n",
              "  .colab-df-quickchart {\n",
              "      --bg-color: #E8F0FE;\n",
              "      --fill-color: #1967D2;\n",
              "      --hover-bg-color: #E2EBFA;\n",
              "      --hover-fill-color: #174EA6;\n",
              "      --disabled-fill-color: #AAA;\n",
              "      --disabled-bg-color: #DDD;\n",
              "  }\n",
              "\n",
              "  [theme=dark] .colab-df-quickchart {\n",
              "      --bg-color: #3B4455;\n",
              "      --fill-color: #D2E3FC;\n",
              "      --hover-bg-color: #434B5C;\n",
              "      --hover-fill-color: #FFFFFF;\n",
              "      --disabled-bg-color: #3B4455;\n",
              "      --disabled-fill-color: #666;\n",
              "  }\n",
              "\n",
              "  .colab-df-quickchart {\n",
              "    background-color: var(--bg-color);\n",
              "    border: none;\n",
              "    border-radius: 50%;\n",
              "    cursor: pointer;\n",
              "    display: none;\n",
              "    fill: var(--fill-color);\n",
              "    height: 32px;\n",
              "    padding: 0;\n",
              "    width: 32px;\n",
              "  }\n",
              "\n",
              "  .colab-df-quickchart:hover {\n",
              "    background-color: var(--hover-bg-color);\n",
              "    box-shadow: 0 1px 2px rgba(60, 64, 67, 0.3), 0 1px 3px 1px rgba(60, 64, 67, 0.15);\n",
              "    fill: var(--button-hover-fill-color);\n",
              "  }\n",
              "\n",
              "  .colab-df-quickchart-complete:disabled,\n",
              "  .colab-df-quickchart-complete:disabled:hover {\n",
              "    background-color: var(--disabled-bg-color);\n",
              "    fill: var(--disabled-fill-color);\n",
              "    box-shadow: none;\n",
              "  }\n",
              "\n",
              "  .colab-df-spinner {\n",
              "    border: 2px solid var(--fill-color);\n",
              "    border-color: transparent;\n",
              "    border-bottom-color: var(--fill-color);\n",
              "    animation:\n",
              "      spin 1s steps(1) infinite;\n",
              "  }\n",
              "\n",
              "  @keyframes spin {\n",
              "    0% {\n",
              "      border-color: transparent;\n",
              "      border-bottom-color: var(--fill-color);\n",
              "      border-left-color: var(--fill-color);\n",
              "    }\n",
              "    20% {\n",
              "      border-color: transparent;\n",
              "      border-left-color: var(--fill-color);\n",
              "      border-top-color: var(--fill-color);\n",
              "    }\n",
              "    30% {\n",
              "      border-color: transparent;\n",
              "      border-left-color: var(--fill-color);\n",
              "      border-top-color: var(--fill-color);\n",
              "      border-right-color: var(--fill-color);\n",
              "    }\n",
              "    40% {\n",
              "      border-color: transparent;\n",
              "      border-right-color: var(--fill-color);\n",
              "      border-top-color: var(--fill-color);\n",
              "    }\n",
              "    60% {\n",
              "      border-color: transparent;\n",
              "      border-right-color: var(--fill-color);\n",
              "    }\n",
              "    80% {\n",
              "      border-color: transparent;\n",
              "      border-right-color: var(--fill-color);\n",
              "      border-bottom-color: var(--fill-color);\n",
              "    }\n",
              "    90% {\n",
              "      border-color: transparent;\n",
              "      border-bottom-color: var(--fill-color);\n",
              "    }\n",
              "  }\n",
              "</style>\n",
              "\n",
              "  <script>\n",
              "    async function quickchart(key) {\n",
              "      const quickchartButtonEl =\n",
              "        document.querySelector('#' + key + ' button');\n",
              "      quickchartButtonEl.disabled = true;  // To prevent multiple clicks.\n",
              "      quickchartButtonEl.classList.add('colab-df-spinner');\n",
              "      try {\n",
              "        const charts = await google.colab.kernel.invokeFunction(\n",
              "            'suggestCharts', [key], {});\n",
              "      } catch (error) {\n",
              "        console.error('Error during call to suggestCharts:', error);\n",
              "      }\n",
              "      quickchartButtonEl.classList.remove('colab-df-spinner');\n",
              "      quickchartButtonEl.classList.add('colab-df-quickchart-complete');\n",
              "    }\n",
              "    (() => {\n",
              "      let quickchartButtonEl =\n",
              "        document.querySelector('#df-763bb51c-92d8-43e5-9ce6-6810900036e7 button');\n",
              "      quickchartButtonEl.style.display =\n",
              "        google.colab.kernel.accessAllowed ? 'block' : 'none';\n",
              "    })();\n",
              "  </script>\n",
              "</div>\n",
              "\n",
              "    </div>\n",
              "  </div>\n"
            ],
            "text/plain": [
              "   Unnamed: 0      job_id  company_id  \\\n",
              "0           0  3757940104      553718   \n",
              "1           1  3757754488      553718   \n",
              "2           2  3757940025     2192142   \n",
              "3           3  3757934539     2192142   \n",
              "4           4  3757938019      474443   \n",
              "\n",
              "                                          speciality  company_size  \\\n",
              "0  digital hearing instrument behind ear ear open...             5   \n",
              "1  digital hearing instrument behind ear ear open...             5   \n",
              "2  metal fabrication machining robotic welding en...             4   \n",
              "3  metal fabrication machining robotic welding en...             4   \n",
              "4  roller chain engineering class chain sprocket ...             4   \n",
              "\n",
              "                             industry                     skill  \n",
              "0                              retail                     other  \n",
              "1                              retail      health care provider  \n",
              "2  industrial machinery manufacturing  management manufacturing  \n",
              "3  industrial machinery manufacturing  management manufacturing  \n",
              "4  automation machinery manufacturing               engineering  "
            ]
          },
          "execution_count": 4,
          "metadata": {},
          "output_type": "execute_result"
        }
      ],
      "source": [
        "df = pd.read_csv('/content/drive/MyDrive/24-1/Data Science/new_df.csv')\n",
        "df.head()"
      ]
    },
    {
      "cell_type": "code",
      "execution_count": null,
      "metadata": {
        "id": "wjWWC_f9Nd3w"
      },
      "outputs": [],
      "source": [
        "df.drop(['Unnamed: 0'], axis=1, inplace=True)"
      ]
    },
    {
      "cell_type": "code",
      "execution_count": null,
      "metadata": {
        "colab": {
          "base_uri": "https://localhost:8080/",
          "height": 424
        },
        "id": "wT-NrOv7N5V9",
        "outputId": "305d4b3e-2237-4430-a564-cc7cbbe76699"
      },
      "outputs": [
        {
          "data": {
            "application/vnd.google.colaboratory.intrinsic+json": {
              "summary": "{\n  \"name\": \"df\",\n  \"rows\": 24549,\n  \"fields\": [\n    {\n      \"column\": \"job_id\",\n      \"properties\": {\n        \"dtype\": \"number\",\n        \"std\": 67312344,\n        \"min\": 133114754,\n        \"max\": 3757940104,\n        \"num_unique_values\": 24549,\n        \"samples\": [\n          3693067891,\n          3756110983,\n          3701304484\n        ],\n        \"semantic_type\": \"\",\n        \"description\": \"\"\n      }\n    },\n    {\n      \"column\": \"company_id\",\n      \"properties\": {\n        \"dtype\": \"number\",\n        \"std\": 16450601,\n        \"min\": 1009,\n        \"max\": 101059464,\n        \"num_unique_values\": 7405,\n        \"samples\": [\n          5345313,\n          2282875,\n          3607419\n        ],\n        \"semantic_type\": \"\",\n        \"description\": \"\"\n      }\n    },\n    {\n      \"column\": \"speciality\",\n      \"properties\": {\n        \"dtype\": \"category\",\n        \"num_unique_values\": 7370,\n        \"samples\": [\n          \"marketing brand strategy advertising creative business business communication medium interactive medium search engine marketing search engine optimization public relation social medium print radio television web design content development user experience\",\n          \"consulting service software development\",\n          \"talent acquisition recruiting talent assessment talent mentor coaching talent development partner business transformation practice consulting business transformation talent partner\"\n        ],\n        \"semantic_type\": \"\",\n        \"description\": \"\"\n      }\n    },\n    {\n      \"column\": \"company_size\",\n      \"properties\": {\n        \"dtype\": \"number\",\n        \"std\": 1,\n        \"min\": 1,\n        \"max\": 7,\n        \"num_unique_values\": 7,\n        \"samples\": [\n          5,\n          4,\n          2\n        ],\n        \"semantic_type\": \"\",\n        \"description\": \"\"\n      }\n    },\n    {\n      \"column\": \"industry\",\n      \"properties\": {\n        \"dtype\": \"category\",\n        \"num_unique_values\": 277,\n        \"samples\": [\n          \"hospitality\",\n          \"consumer electronics computer electronics manufacture\",\n          \"chemical\"\n        ],\n        \"semantic_type\": \"\",\n        \"description\": \"\"\n      }\n    },\n    {\n      \"column\": \"skill\",\n      \"properties\": {\n        \"dtype\": \"category\",\n        \"num_unique_values\": 1560,\n        \"samples\": [\n          \"sale business development purchasing\",\n          \"management administration finance\",\n          \"strategy management administration\"\n        ],\n        \"semantic_type\": \"\",\n        \"description\": \"\"\n      }\n    }\n  ]\n}",
              "type": "dataframe",
              "variable_name": "df"
            },
            "text/html": [
              "\n",
              "  <div id=\"df-ce1fbdff-5b80-449b-847f-24e2e4904415\" class=\"colab-df-container\">\n",
              "    <div>\n",
              "<style scoped>\n",
              "    .dataframe tbody tr th:only-of-type {\n",
              "        vertical-align: middle;\n",
              "    }\n",
              "\n",
              "    .dataframe tbody tr th {\n",
              "        vertical-align: top;\n",
              "    }\n",
              "\n",
              "    .dataframe thead th {\n",
              "        text-align: right;\n",
              "    }\n",
              "</style>\n",
              "<table border=\"1\" class=\"dataframe\">\n",
              "  <thead>\n",
              "    <tr style=\"text-align: right;\">\n",
              "      <th></th>\n",
              "      <th>job_id</th>\n",
              "      <th>company_id</th>\n",
              "      <th>speciality</th>\n",
              "      <th>company_size</th>\n",
              "      <th>industry</th>\n",
              "      <th>skill</th>\n",
              "    </tr>\n",
              "  </thead>\n",
              "  <tbody>\n",
              "    <tr>\n",
              "      <th>0</th>\n",
              "      <td>3757940104</td>\n",
              "      <td>553718</td>\n",
              "      <td>digital hearing instrument behind ear ear open...</td>\n",
              "      <td>5</td>\n",
              "      <td>retail</td>\n",
              "      <td>other</td>\n",
              "    </tr>\n",
              "    <tr>\n",
              "      <th>1</th>\n",
              "      <td>3757754488</td>\n",
              "      <td>553718</td>\n",
              "      <td>digital hearing instrument behind ear ear open...</td>\n",
              "      <td>5</td>\n",
              "      <td>retail</td>\n",
              "      <td>health care provider</td>\n",
              "    </tr>\n",
              "    <tr>\n",
              "      <th>2</th>\n",
              "      <td>3757940025</td>\n",
              "      <td>2192142</td>\n",
              "      <td>metal fabrication machining robotic welding en...</td>\n",
              "      <td>4</td>\n",
              "      <td>industrial machinery manufacturing</td>\n",
              "      <td>management manufacturing</td>\n",
              "    </tr>\n",
              "    <tr>\n",
              "      <th>3</th>\n",
              "      <td>3757934539</td>\n",
              "      <td>2192142</td>\n",
              "      <td>metal fabrication machining robotic welding en...</td>\n",
              "      <td>4</td>\n",
              "      <td>industrial machinery manufacturing</td>\n",
              "      <td>management manufacturing</td>\n",
              "    </tr>\n",
              "    <tr>\n",
              "      <th>4</th>\n",
              "      <td>3757938019</td>\n",
              "      <td>474443</td>\n",
              "      <td>roller chain engineering class chain sprocket ...</td>\n",
              "      <td>4</td>\n",
              "      <td>automation machinery manufacturing</td>\n",
              "      <td>engineering</td>\n",
              "    </tr>\n",
              "    <tr>\n",
              "      <th>...</th>\n",
              "      <td>...</td>\n",
              "      <td>...</td>\n",
              "      <td>...</td>\n",
              "      <td>...</td>\n",
              "      <td>...</td>\n",
              "      <td>...</td>\n",
              "    </tr>\n",
              "    <tr>\n",
              "      <th>24544</th>\n",
              "      <td>1657978824</td>\n",
              "      <td>89350959</td>\n",
              "      <td>midjourney ai prompt engineering chatgpt opena...</td>\n",
              "      <td>2</td>\n",
              "      <td>fine art</td>\n",
              "      <td>other</td>\n",
              "    </tr>\n",
              "    <tr>\n",
              "      <th>24545</th>\n",
              "      <td>1494619053</td>\n",
              "      <td>10696333</td>\n",
              "      <td>elevator stairlifts wheelchair lift dumbwaiter</td>\n",
              "      <td>2</td>\n",
              "      <td>medical equipment manufacturing</td>\n",
              "      <td>accounting finance</td>\n",
              "    </tr>\n",
              "    <tr>\n",
              "      <th>24546</th>\n",
              "      <td>1004740969</td>\n",
              "      <td>882349</td>\n",
              "      <td>residential foundation design residential fram...</td>\n",
              "      <td>2</td>\n",
              "      <td>architecture planning</td>\n",
              "      <td>engineering information technology</td>\n",
              "    </tr>\n",
              "    <tr>\n",
              "      <th>24547</th>\n",
              "      <td>903408693</td>\n",
              "      <td>3894635</td>\n",
              "      <td>pecan nut candy cake dry fruit gift basets cor...</td>\n",
              "      <td>2</td>\n",
              "      <td>retail</td>\n",
              "      <td>administration</td>\n",
              "    </tr>\n",
              "    <tr>\n",
              "      <th>24548</th>\n",
              "      <td>133114754</td>\n",
              "      <td>77766802</td>\n",
              "      <td>export import clearance bond warehousing ocean...</td>\n",
              "      <td>1</td>\n",
              "      <td>transportationtruckingrailroad</td>\n",
              "      <td>sale business development</td>\n",
              "    </tr>\n",
              "  </tbody>\n",
              "</table>\n",
              "<p>24549 rows × 6 columns</p>\n",
              "</div>\n",
              "    <div class=\"colab-df-buttons\">\n",
              "\n",
              "  <div class=\"colab-df-container\">\n",
              "    <button class=\"colab-df-convert\" onclick=\"convertToInteractive('df-ce1fbdff-5b80-449b-847f-24e2e4904415')\"\n",
              "            title=\"Convert this dataframe to an interactive table.\"\n",
              "            style=\"display:none;\">\n",
              "\n",
              "  <svg xmlns=\"http://www.w3.org/2000/svg\" height=\"24px\" viewBox=\"0 -960 960 960\">\n",
              "    <path d=\"M120-120v-720h720v720H120Zm60-500h600v-160H180v160Zm220 220h160v-160H400v160Zm0 220h160v-160H400v160ZM180-400h160v-160H180v160Zm440 0h160v-160H620v160ZM180-180h160v-160H180v160Zm440 0h160v-160H620v160Z\"/>\n",
              "  </svg>\n",
              "    </button>\n",
              "\n",
              "  <style>\n",
              "    .colab-df-container {\n",
              "      display:flex;\n",
              "      gap: 12px;\n",
              "    }\n",
              "\n",
              "    .colab-df-convert {\n",
              "      background-color: #E8F0FE;\n",
              "      border: none;\n",
              "      border-radius: 50%;\n",
              "      cursor: pointer;\n",
              "      display: none;\n",
              "      fill: #1967D2;\n",
              "      height: 32px;\n",
              "      padding: 0 0 0 0;\n",
              "      width: 32px;\n",
              "    }\n",
              "\n",
              "    .colab-df-convert:hover {\n",
              "      background-color: #E2EBFA;\n",
              "      box-shadow: 0px 1px 2px rgba(60, 64, 67, 0.3), 0px 1px 3px 1px rgba(60, 64, 67, 0.15);\n",
              "      fill: #174EA6;\n",
              "    }\n",
              "\n",
              "    .colab-df-buttons div {\n",
              "      margin-bottom: 4px;\n",
              "    }\n",
              "\n",
              "    [theme=dark] .colab-df-convert {\n",
              "      background-color: #3B4455;\n",
              "      fill: #D2E3FC;\n",
              "    }\n",
              "\n",
              "    [theme=dark] .colab-df-convert:hover {\n",
              "      background-color: #434B5C;\n",
              "      box-shadow: 0px 1px 3px 1px rgba(0, 0, 0, 0.15);\n",
              "      filter: drop-shadow(0px 1px 2px rgba(0, 0, 0, 0.3));\n",
              "      fill: #FFFFFF;\n",
              "    }\n",
              "  </style>\n",
              "\n",
              "    <script>\n",
              "      const buttonEl =\n",
              "        document.querySelector('#df-ce1fbdff-5b80-449b-847f-24e2e4904415 button.colab-df-convert');\n",
              "      buttonEl.style.display =\n",
              "        google.colab.kernel.accessAllowed ? 'block' : 'none';\n",
              "\n",
              "      async function convertToInteractive(key) {\n",
              "        const element = document.querySelector('#df-ce1fbdff-5b80-449b-847f-24e2e4904415');\n",
              "        const dataTable =\n",
              "          await google.colab.kernel.invokeFunction('convertToInteractive',\n",
              "                                                    [key], {});\n",
              "        if (!dataTable) return;\n",
              "\n",
              "        const docLinkHtml = 'Like what you see? Visit the ' +\n",
              "          '<a target=\"_blank\" href=https://colab.research.google.com/notebooks/data_table.ipynb>data table notebook</a>'\n",
              "          + ' to learn more about interactive tables.';\n",
              "        element.innerHTML = '';\n",
              "        dataTable['output_type'] = 'display_data';\n",
              "        await google.colab.output.renderOutput(dataTable, element);\n",
              "        const docLink = document.createElement('div');\n",
              "        docLink.innerHTML = docLinkHtml;\n",
              "        element.appendChild(docLink);\n",
              "      }\n",
              "    </script>\n",
              "  </div>\n",
              "\n",
              "\n",
              "<div id=\"df-7379a5a0-d419-4c4a-a579-177fcb6be233\">\n",
              "  <button class=\"colab-df-quickchart\" onclick=\"quickchart('df-7379a5a0-d419-4c4a-a579-177fcb6be233')\"\n",
              "            title=\"Suggest charts\"\n",
              "            style=\"display:none;\">\n",
              "\n",
              "<svg xmlns=\"http://www.w3.org/2000/svg\" height=\"24px\"viewBox=\"0 0 24 24\"\n",
              "     width=\"24px\">\n",
              "    <g>\n",
              "        <path d=\"M19 3H5c-1.1 0-2 .9-2 2v14c0 1.1.9 2 2 2h14c1.1 0 2-.9 2-2V5c0-1.1-.9-2-2-2zM9 17H7v-7h2v7zm4 0h-2V7h2v10zm4 0h-2v-4h2v4z\"/>\n",
              "    </g>\n",
              "</svg>\n",
              "  </button>\n",
              "\n",
              "<style>\n",
              "  .colab-df-quickchart {\n",
              "      --bg-color: #E8F0FE;\n",
              "      --fill-color: #1967D2;\n",
              "      --hover-bg-color: #E2EBFA;\n",
              "      --hover-fill-color: #174EA6;\n",
              "      --disabled-fill-color: #AAA;\n",
              "      --disabled-bg-color: #DDD;\n",
              "  }\n",
              "\n",
              "  [theme=dark] .colab-df-quickchart {\n",
              "      --bg-color: #3B4455;\n",
              "      --fill-color: #D2E3FC;\n",
              "      --hover-bg-color: #434B5C;\n",
              "      --hover-fill-color: #FFFFFF;\n",
              "      --disabled-bg-color: #3B4455;\n",
              "      --disabled-fill-color: #666;\n",
              "  }\n",
              "\n",
              "  .colab-df-quickchart {\n",
              "    background-color: var(--bg-color);\n",
              "    border: none;\n",
              "    border-radius: 50%;\n",
              "    cursor: pointer;\n",
              "    display: none;\n",
              "    fill: var(--fill-color);\n",
              "    height: 32px;\n",
              "    padding: 0;\n",
              "    width: 32px;\n",
              "  }\n",
              "\n",
              "  .colab-df-quickchart:hover {\n",
              "    background-color: var(--hover-bg-color);\n",
              "    box-shadow: 0 1px 2px rgba(60, 64, 67, 0.3), 0 1px 3px 1px rgba(60, 64, 67, 0.15);\n",
              "    fill: var(--button-hover-fill-color);\n",
              "  }\n",
              "\n",
              "  .colab-df-quickchart-complete:disabled,\n",
              "  .colab-df-quickchart-complete:disabled:hover {\n",
              "    background-color: var(--disabled-bg-color);\n",
              "    fill: var(--disabled-fill-color);\n",
              "    box-shadow: none;\n",
              "  }\n",
              "\n",
              "  .colab-df-spinner {\n",
              "    border: 2px solid var(--fill-color);\n",
              "    border-color: transparent;\n",
              "    border-bottom-color: var(--fill-color);\n",
              "    animation:\n",
              "      spin 1s steps(1) infinite;\n",
              "  }\n",
              "\n",
              "  @keyframes spin {\n",
              "    0% {\n",
              "      border-color: transparent;\n",
              "      border-bottom-color: var(--fill-color);\n",
              "      border-left-color: var(--fill-color);\n",
              "    }\n",
              "    20% {\n",
              "      border-color: transparent;\n",
              "      border-left-color: var(--fill-color);\n",
              "      border-top-color: var(--fill-color);\n",
              "    }\n",
              "    30% {\n",
              "      border-color: transparent;\n",
              "      border-left-color: var(--fill-color);\n",
              "      border-top-color: var(--fill-color);\n",
              "      border-right-color: var(--fill-color);\n",
              "    }\n",
              "    40% {\n",
              "      border-color: transparent;\n",
              "      border-right-color: var(--fill-color);\n",
              "      border-top-color: var(--fill-color);\n",
              "    }\n",
              "    60% {\n",
              "      border-color: transparent;\n",
              "      border-right-color: var(--fill-color);\n",
              "    }\n",
              "    80% {\n",
              "      border-color: transparent;\n",
              "      border-right-color: var(--fill-color);\n",
              "      border-bottom-color: var(--fill-color);\n",
              "    }\n",
              "    90% {\n",
              "      border-color: transparent;\n",
              "      border-bottom-color: var(--fill-color);\n",
              "    }\n",
              "  }\n",
              "</style>\n",
              "\n",
              "  <script>\n",
              "    async function quickchart(key) {\n",
              "      const quickchartButtonEl =\n",
              "        document.querySelector('#' + key + ' button');\n",
              "      quickchartButtonEl.disabled = true;  // To prevent multiple clicks.\n",
              "      quickchartButtonEl.classList.add('colab-df-spinner');\n",
              "      try {\n",
              "        const charts = await google.colab.kernel.invokeFunction(\n",
              "            'suggestCharts', [key], {});\n",
              "      } catch (error) {\n",
              "        console.error('Error during call to suggestCharts:', error);\n",
              "      }\n",
              "      quickchartButtonEl.classList.remove('colab-df-spinner');\n",
              "      quickchartButtonEl.classList.add('colab-df-quickchart-complete');\n",
              "    }\n",
              "    (() => {\n",
              "      let quickchartButtonEl =\n",
              "        document.querySelector('#df-7379a5a0-d419-4c4a-a579-177fcb6be233 button');\n",
              "      quickchartButtonEl.style.display =\n",
              "        google.colab.kernel.accessAllowed ? 'block' : 'none';\n",
              "    })();\n",
              "  </script>\n",
              "</div>\n",
              "\n",
              "  <div id=\"id_dcb832ba-fd0b-4a96-966d-3b25385ff25c\">\n",
              "    <style>\n",
              "      .colab-df-generate {\n",
              "        background-color: #E8F0FE;\n",
              "        border: none;\n",
              "        border-radius: 50%;\n",
              "        cursor: pointer;\n",
              "        display: none;\n",
              "        fill: #1967D2;\n",
              "        height: 32px;\n",
              "        padding: 0 0 0 0;\n",
              "        width: 32px;\n",
              "      }\n",
              "\n",
              "      .colab-df-generate:hover {\n",
              "        background-color: #E2EBFA;\n",
              "        box-shadow: 0px 1px 2px rgba(60, 64, 67, 0.3), 0px 1px 3px 1px rgba(60, 64, 67, 0.15);\n",
              "        fill: #174EA6;\n",
              "      }\n",
              "\n",
              "      [theme=dark] .colab-df-generate {\n",
              "        background-color: #3B4455;\n",
              "        fill: #D2E3FC;\n",
              "      }\n",
              "\n",
              "      [theme=dark] .colab-df-generate:hover {\n",
              "        background-color: #434B5C;\n",
              "        box-shadow: 0px 1px 3px 1px rgba(0, 0, 0, 0.15);\n",
              "        filter: drop-shadow(0px 1px 2px rgba(0, 0, 0, 0.3));\n",
              "        fill: #FFFFFF;\n",
              "      }\n",
              "    </style>\n",
              "    <button class=\"colab-df-generate\" onclick=\"generateWithVariable('df')\"\n",
              "            title=\"Generate code using this dataframe.\"\n",
              "            style=\"display:none;\">\n",
              "\n",
              "  <svg xmlns=\"http://www.w3.org/2000/svg\" height=\"24px\"viewBox=\"0 0 24 24\"\n",
              "       width=\"24px\">\n",
              "    <path d=\"M7,19H8.4L18.45,9,17,7.55,7,17.6ZM5,21V16.75L18.45,3.32a2,2,0,0,1,2.83,0l1.4,1.43a1.91,1.91,0,0,1,.58,1.4,1.91,1.91,0,0,1-.58,1.4L9.25,21ZM18.45,9,17,7.55Zm-12,3A5.31,5.31,0,0,0,4.9,8.1,5.31,5.31,0,0,0,1,6.5,5.31,5.31,0,0,0,4.9,4.9,5.31,5.31,0,0,0,6.5,1,5.31,5.31,0,0,0,8.1,4.9,5.31,5.31,0,0,0,12,6.5,5.46,5.46,0,0,0,6.5,12Z\"/>\n",
              "  </svg>\n",
              "    </button>\n",
              "    <script>\n",
              "      (() => {\n",
              "      const buttonEl =\n",
              "        document.querySelector('#id_dcb832ba-fd0b-4a96-966d-3b25385ff25c button.colab-df-generate');\n",
              "      buttonEl.style.display =\n",
              "        google.colab.kernel.accessAllowed ? 'block' : 'none';\n",
              "\n",
              "      buttonEl.onclick = () => {\n",
              "        google.colab.notebook.generateWithVariable('df');\n",
              "      }\n",
              "      })();\n",
              "    </script>\n",
              "  </div>\n",
              "\n",
              "    </div>\n",
              "  </div>\n"
            ],
            "text/plain": [
              "           job_id  company_id  \\\n",
              "0      3757940104      553718   \n",
              "1      3757754488      553718   \n",
              "2      3757940025     2192142   \n",
              "3      3757934539     2192142   \n",
              "4      3757938019      474443   \n",
              "...           ...         ...   \n",
              "24544  1657978824    89350959   \n",
              "24545  1494619053    10696333   \n",
              "24546  1004740969      882349   \n",
              "24547   903408693     3894635   \n",
              "24548   133114754    77766802   \n",
              "\n",
              "                                              speciality  company_size  \\\n",
              "0      digital hearing instrument behind ear ear open...             5   \n",
              "1      digital hearing instrument behind ear ear open...             5   \n",
              "2      metal fabrication machining robotic welding en...             4   \n",
              "3      metal fabrication machining robotic welding en...             4   \n",
              "4      roller chain engineering class chain sprocket ...             4   \n",
              "...                                                  ...           ...   \n",
              "24544  midjourney ai prompt engineering chatgpt opena...             2   \n",
              "24545     elevator stairlifts wheelchair lift dumbwaiter             2   \n",
              "24546  residential foundation design residential fram...             2   \n",
              "24547  pecan nut candy cake dry fruit gift basets cor...             2   \n",
              "24548  export import clearance bond warehousing ocean...             1   \n",
              "\n",
              "                                 industry                               skill  \n",
              "0                                  retail                               other  \n",
              "1                                  retail                health care provider  \n",
              "2      industrial machinery manufacturing            management manufacturing  \n",
              "3      industrial machinery manufacturing            management manufacturing  \n",
              "4      automation machinery manufacturing                         engineering  \n",
              "...                                   ...                                 ...  \n",
              "24544                            fine art                               other  \n",
              "24545     medical equipment manufacturing                  accounting finance  \n",
              "24546               architecture planning  engineering information technology  \n",
              "24547                              retail                      administration  \n",
              "24548      transportationtruckingrailroad           sale business development  \n",
              "\n",
              "[24549 rows x 6 columns]"
            ]
          },
          "execution_count": 6,
          "metadata": {},
          "output_type": "execute_result"
        }
      ],
      "source": [
        "df"
      ]
    },
    {
      "cell_type": "markdown",
      "source": [
        "Done Tokenize, Lemmatizie, Deleted Specials, Made them all Lower case ...."
      ],
      "metadata": {
        "id": "OyBcapLbSEbq"
      }
    },
    {
      "cell_type": "code",
      "execution_count": null,
      "metadata": {
        "id": "0HWyf7cRN6s1"
      },
      "outputs": [],
      "source": [
        "# Import Libraries\n",
        "\n",
        "import pandas as pd\n",
        "from sklearn.model_selection import train_test_split, cross_val_score, KFold\n",
        "from sklearn.preprocessing import OneHotEncoder, LabelEncoder, StandardScaler\n",
        "from sklearn.feature_extraction.text import TfidfVectorizer\n",
        "from sklearn.svm import SVC\n",
        "from sklearn.tree import DecisionTreeClassifier\n",
        "from sklearn.ensemble import RandomForestClassifier, VotingClassifier\n",
        "from sklearn.pipeline import Pipeline, FeatureUnion\n",
        "from sklearn.compose import ColumnTransformer\n",
        "from sklearn.metrics import accuracy_score, precision_score, recall_score, f1_score, confusion_matrix\n",
        "from sklearn.model_selection import GridSearchCV\n",
        "from sklearn.metrics import classification_report\n",
        "from sklearn.feature_extraction.text import CountVectorizer\n",
        "import numpy as np"
      ]
    },
    {
      "cell_type": "markdown",
      "metadata": {
        "id": "s3wr6jVaiVmR"
      },
      "source": [
        "Aimed to Try !<br>\n",
        "By Using ColumnTransformer, a library from Scikit-Learn, is easier to preprocess each column.<br>\n",
        "Also Enable to process various types of Data<br>\n",
        "(e.g. Numerical, Categorical, etc..)<br><br>\n",
        "\n",
        "**The Form of ColumnTransFormer:**\n"
      ]
    },
    {
      "cell_type": "code",
      "execution_count": null,
      "metadata": {
        "id": "VGsv8ejOjVSc"
      },
      "outputs": [],
      "source": [
        "'''\n",
        "from sklearn.compose import ColumnTransformer\n",
        "\n",
        "transformer = ColumnTransformer(\n",
        "    transformers=[\n",
        "        ('name', transformer, columns)\n",
        "    ]\n",
        ")\n",
        "'''"
      ]
    },
    {
      "cell_type": "markdown",
      "metadata": {
        "id": "FBIy3QuokGv5"
      },
      "source": [
        "---"
      ]
    },
    {
      "cell_type": "markdown",
      "metadata": {
        "id": "4lapKMv9WBO6"
      },
      "source": [
        "## **1st Trial**"
      ]
    },
    {
      "cell_type": "markdown",
      "metadata": {
        "id": "e3NhUXnLWEdL"
      },
      "source": [
        "* Industry(Target): None<br>\n",
        "* Speciality, Skill(Features): OneHot<br>\n",
        "* Company Size(Feature): None"
      ]
    },
    {
      "cell_type": "code",
      "execution_count": null,
      "metadata": {
        "id": "WpFFNAqVWAzM"
      },
      "outputs": [],
      "source": [
        "# Column Transformer to apply transformations to the appropriate columns\n",
        "preprocessor = ColumnTransformer(\n",
        "    transformers=[\n",
        "        ('speciality', OneHotEncoder(handle_unknown='ignore'), ['speciality']),\n",
        "        ('skill', OneHotEncoder(handle_unknown='ignore'), ['skill']),  # Added the column name 'skill'\n",
        "        ('company_size', 'passthrough', ['company_size'])\n",
        "    ])"
      ]
    },
    {
      "cell_type": "code",
      "execution_count": null,
      "metadata": {
        "id": "rX5Ruo1OWhQ0"
      },
      "outputs": [],
      "source": [
        "# Prepare the features and target variable\n",
        "X = df[['speciality', 'skill', 'company_size']]\n",
        "y = df['industry_encoded']\n",
        "\n",
        "# Define models\n",
        "svm_model = Pipeline(\n",
        "    steps=[('preprocessor', preprocessor),\n",
        "           ('scaler', StandardScaler(with_mean=False)),\n",
        "           ('classifier', SVC())])\n",
        "\n",
        "decisionTree_model = Pipeline(\n",
        "    steps=[('preprocessor', preprocessor),\n",
        "    ('classifier', DecisionTreeClassifier())])\n",
        "\n",
        "randomForest_model = Pipeline(\n",
        "    steps=[('preprocessor', preprocessor),\n",
        "    ('classifier', RandomForestClassifier())])"
      ]
    },
    {
      "cell_type": "code",
      "execution_count": null,
      "metadata": {
        "colab": {
          "base_uri": "https://localhost:8080/",
          "height": 194
        },
        "id": "k-6_Cb5Ub20V",
        "outputId": "95ca45c7-0548-429e-9496-eb4f4185d1f3"
      },
      "outputs": [
        {
          "data": {
            "text/html": [
              "<style>#sk-container-id-3 {color: black;background-color: white;}#sk-container-id-3 pre{padding: 0;}#sk-container-id-3 div.sk-toggleable {background-color: white;}#sk-container-id-3 label.sk-toggleable__label {cursor: pointer;display: block;width: 100%;margin-bottom: 0;padding: 0.3em;box-sizing: border-box;text-align: center;}#sk-container-id-3 label.sk-toggleable__label-arrow:before {content: \"▸\";float: left;margin-right: 0.25em;color: #696969;}#sk-container-id-3 label.sk-toggleable__label-arrow:hover:before {color: black;}#sk-container-id-3 div.sk-estimator:hover label.sk-toggleable__label-arrow:before {color: black;}#sk-container-id-3 div.sk-toggleable__content {max-height: 0;max-width: 0;overflow: hidden;text-align: left;background-color: #f0f8ff;}#sk-container-id-3 div.sk-toggleable__content pre {margin: 0.2em;color: black;border-radius: 0.25em;background-color: #f0f8ff;}#sk-container-id-3 input.sk-toggleable__control:checked~div.sk-toggleable__content {max-height: 200px;max-width: 100%;overflow: auto;}#sk-container-id-3 input.sk-toggleable__control:checked~label.sk-toggleable__label-arrow:before {content: \"▾\";}#sk-container-id-3 div.sk-estimator input.sk-toggleable__control:checked~label.sk-toggleable__label {background-color: #d4ebff;}#sk-container-id-3 div.sk-label input.sk-toggleable__control:checked~label.sk-toggleable__label {background-color: #d4ebff;}#sk-container-id-3 input.sk-hidden--visually {border: 0;clip: rect(1px 1px 1px 1px);clip: rect(1px, 1px, 1px, 1px);height: 1px;margin: -1px;overflow: hidden;padding: 0;position: absolute;width: 1px;}#sk-container-id-3 div.sk-estimator {font-family: monospace;background-color: #f0f8ff;border: 1px dotted black;border-radius: 0.25em;box-sizing: border-box;margin-bottom: 0.5em;}#sk-container-id-3 div.sk-estimator:hover {background-color: #d4ebff;}#sk-container-id-3 div.sk-parallel-item::after {content: \"\";width: 100%;border-bottom: 1px solid gray;flex-grow: 1;}#sk-container-id-3 div.sk-label:hover label.sk-toggleable__label {background-color: #d4ebff;}#sk-container-id-3 div.sk-serial::before {content: \"\";position: absolute;border-left: 1px solid gray;box-sizing: border-box;top: 0;bottom: 0;left: 50%;z-index: 0;}#sk-container-id-3 div.sk-serial {display: flex;flex-direction: column;align-items: center;background-color: white;padding-right: 0.2em;padding-left: 0.2em;position: relative;}#sk-container-id-3 div.sk-item {position: relative;z-index: 1;}#sk-container-id-3 div.sk-parallel {display: flex;align-items: stretch;justify-content: center;background-color: white;position: relative;}#sk-container-id-3 div.sk-item::before, #sk-container-id-3 div.sk-parallel-item::before {content: \"\";position: absolute;border-left: 1px solid gray;box-sizing: border-box;top: 0;bottom: 0;left: 50%;z-index: -1;}#sk-container-id-3 div.sk-parallel-item {display: flex;flex-direction: column;z-index: 1;position: relative;background-color: white;}#sk-container-id-3 div.sk-parallel-item:first-child::after {align-self: flex-end;width: 50%;}#sk-container-id-3 div.sk-parallel-item:last-child::after {align-self: flex-start;width: 50%;}#sk-container-id-3 div.sk-parallel-item:only-child::after {width: 0;}#sk-container-id-3 div.sk-dashed-wrapped {border: 1px dashed gray;margin: 0 0.4em 0.5em 0.4em;box-sizing: border-box;padding-bottom: 0.4em;background-color: white;}#sk-container-id-3 div.sk-label label {font-family: monospace;font-weight: bold;display: inline-block;line-height: 1.2em;}#sk-container-id-3 div.sk-label-container {text-align: center;}#sk-container-id-3 div.sk-container {/* jupyter's `normalize.less` sets `[hidden] { display: none; }` but bootstrap.min.css set `[hidden] { display: none !important; }` so we also need the `!important` here to be able to override the default hidden behavior on the sphinx rendered scikit-learn.org. See: https://github.com/scikit-learn/scikit-learn/issues/21755 */display: inline-block !important;position: relative;}#sk-container-id-3 div.sk-text-repr-fallback {display: none;}</style><div id=\"sk-container-id-3\" class=\"sk-top-container\"><div class=\"sk-text-repr-fallback\"><pre>Pipeline(steps=[(&#x27;preprocessor&#x27;,\n",
              "                 ColumnTransformer(transformers=[(&#x27;speciality&#x27;,\n",
              "                                                  OneHotEncoder(handle_unknown=&#x27;ignore&#x27;),\n",
              "                                                  [&#x27;speciality&#x27;]),\n",
              "                                                 (&#x27;skill&#x27;,\n",
              "                                                  OneHotEncoder(handle_unknown=&#x27;ignore&#x27;),\n",
              "                                                  [&#x27;skill&#x27;]),\n",
              "                                                 (&#x27;company_size&#x27;, &#x27;passthrough&#x27;,\n",
              "                                                  [&#x27;company_size&#x27;])])),\n",
              "                (&#x27;classifier&#x27;, RandomForestClassifier())])</pre><b>In a Jupyter environment, please rerun this cell to show the HTML representation or trust the notebook. <br />On GitHub, the HTML representation is unable to render, please try loading this page with nbviewer.org.</b></div><div class=\"sk-container\" hidden><div class=\"sk-item sk-dashed-wrapped\"><div class=\"sk-label-container\"><div class=\"sk-label sk-toggleable\"><input class=\"sk-toggleable__control sk-hidden--visually\" id=\"sk-estimator-id-19\" type=\"checkbox\" ><label for=\"sk-estimator-id-19\" class=\"sk-toggleable__label sk-toggleable__label-arrow\">Pipeline</label><div class=\"sk-toggleable__content\"><pre>Pipeline(steps=[(&#x27;preprocessor&#x27;,\n",
              "                 ColumnTransformer(transformers=[(&#x27;speciality&#x27;,\n",
              "                                                  OneHotEncoder(handle_unknown=&#x27;ignore&#x27;),\n",
              "                                                  [&#x27;speciality&#x27;]),\n",
              "                                                 (&#x27;skill&#x27;,\n",
              "                                                  OneHotEncoder(handle_unknown=&#x27;ignore&#x27;),\n",
              "                                                  [&#x27;skill&#x27;]),\n",
              "                                                 (&#x27;company_size&#x27;, &#x27;passthrough&#x27;,\n",
              "                                                  [&#x27;company_size&#x27;])])),\n",
              "                (&#x27;classifier&#x27;, RandomForestClassifier())])</pre></div></div></div><div class=\"sk-serial\"><div class=\"sk-item sk-dashed-wrapped\"><div class=\"sk-label-container\"><div class=\"sk-label sk-toggleable\"><input class=\"sk-toggleable__control sk-hidden--visually\" id=\"sk-estimator-id-20\" type=\"checkbox\" ><label for=\"sk-estimator-id-20\" class=\"sk-toggleable__label sk-toggleable__label-arrow\">preprocessor: ColumnTransformer</label><div class=\"sk-toggleable__content\"><pre>ColumnTransformer(transformers=[(&#x27;speciality&#x27;,\n",
              "                                 OneHotEncoder(handle_unknown=&#x27;ignore&#x27;),\n",
              "                                 [&#x27;speciality&#x27;]),\n",
              "                                (&#x27;skill&#x27;,\n",
              "                                 OneHotEncoder(handle_unknown=&#x27;ignore&#x27;),\n",
              "                                 [&#x27;skill&#x27;]),\n",
              "                                (&#x27;company_size&#x27;, &#x27;passthrough&#x27;,\n",
              "                                 [&#x27;company_size&#x27;])])</pre></div></div></div><div class=\"sk-parallel\"><div class=\"sk-parallel-item\"><div class=\"sk-item\"><div class=\"sk-label-container\"><div class=\"sk-label sk-toggleable\"><input class=\"sk-toggleable__control sk-hidden--visually\" id=\"sk-estimator-id-21\" type=\"checkbox\" ><label for=\"sk-estimator-id-21\" class=\"sk-toggleable__label sk-toggleable__label-arrow\">speciality</label><div class=\"sk-toggleable__content\"><pre>[&#x27;speciality&#x27;]</pre></div></div></div><div class=\"sk-serial\"><div class=\"sk-item\"><div class=\"sk-estimator sk-toggleable\"><input class=\"sk-toggleable__control sk-hidden--visually\" id=\"sk-estimator-id-22\" type=\"checkbox\" ><label for=\"sk-estimator-id-22\" class=\"sk-toggleable__label sk-toggleable__label-arrow\">OneHotEncoder</label><div class=\"sk-toggleable__content\"><pre>OneHotEncoder(handle_unknown=&#x27;ignore&#x27;)</pre></div></div></div></div></div></div><div class=\"sk-parallel-item\"><div class=\"sk-item\"><div class=\"sk-label-container\"><div class=\"sk-label sk-toggleable\"><input class=\"sk-toggleable__control sk-hidden--visually\" id=\"sk-estimator-id-23\" type=\"checkbox\" ><label for=\"sk-estimator-id-23\" class=\"sk-toggleable__label sk-toggleable__label-arrow\">skill</label><div class=\"sk-toggleable__content\"><pre>[&#x27;skill&#x27;]</pre></div></div></div><div class=\"sk-serial\"><div class=\"sk-item\"><div class=\"sk-estimator sk-toggleable\"><input class=\"sk-toggleable__control sk-hidden--visually\" id=\"sk-estimator-id-24\" type=\"checkbox\" ><label for=\"sk-estimator-id-24\" class=\"sk-toggleable__label sk-toggleable__label-arrow\">OneHotEncoder</label><div class=\"sk-toggleable__content\"><pre>OneHotEncoder(handle_unknown=&#x27;ignore&#x27;)</pre></div></div></div></div></div></div><div class=\"sk-parallel-item\"><div class=\"sk-item\"><div class=\"sk-label-container\"><div class=\"sk-label sk-toggleable\"><input class=\"sk-toggleable__control sk-hidden--visually\" id=\"sk-estimator-id-25\" type=\"checkbox\" ><label for=\"sk-estimator-id-25\" class=\"sk-toggleable__label sk-toggleable__label-arrow\">company_size</label><div class=\"sk-toggleable__content\"><pre>[&#x27;company_size&#x27;]</pre></div></div></div><div class=\"sk-serial\"><div class=\"sk-item\"><div class=\"sk-estimator sk-toggleable\"><input class=\"sk-toggleable__control sk-hidden--visually\" id=\"sk-estimator-id-26\" type=\"checkbox\" ><label for=\"sk-estimator-id-26\" class=\"sk-toggleable__label sk-toggleable__label-arrow\">passthrough</label><div class=\"sk-toggleable__content\"><pre>passthrough</pre></div></div></div></div></div></div></div></div><div class=\"sk-item\"><div class=\"sk-estimator sk-toggleable\"><input class=\"sk-toggleable__control sk-hidden--visually\" id=\"sk-estimator-id-27\" type=\"checkbox\" ><label for=\"sk-estimator-id-27\" class=\"sk-toggleable__label sk-toggleable__label-arrow\">RandomForestClassifier</label><div class=\"sk-toggleable__content\"><pre>RandomForestClassifier()</pre></div></div></div></div></div></div></div>"
            ],
            "text/plain": [
              "Pipeline(steps=[('preprocessor',\n",
              "                 ColumnTransformer(transformers=[('speciality',\n",
              "                                                  OneHotEncoder(handle_unknown='ignore'),\n",
              "                                                  ['speciality']),\n",
              "                                                 ('skill',\n",
              "                                                  OneHotEncoder(handle_unknown='ignore'),\n",
              "                                                  ['skill']),\n",
              "                                                 ('company_size', 'passthrough',\n",
              "                                                  ['company_size'])])),\n",
              "                ('classifier', RandomForestClassifier())])"
            ]
          },
          "execution_count": 56,
          "metadata": {},
          "output_type": "execute_result"
        }
      ],
      "source": [
        "# Split Data(Test Size: 0.2)\n",
        "X_train, X_test, y_train, y_test = train_test_split(X, y, test_size=0.2, random_state=42)\n",
        "\n",
        "# Train Model by using Pipeline\n",
        "svm_model.fit(X_train, y_train)\n",
        "decisionTree_model.fit(X_train, y_train)\n",
        "randomForest_model.fit(X_train, y_train)"
      ]
    },
    {
      "cell_type": "code",
      "execution_count": null,
      "metadata": {
        "colab": {
          "base_uri": "https://localhost:8080/"
        },
        "id": "JwX7ka4aWpLk",
        "outputId": "5f8af700-e900-4add-a774-a326edcde2eb"
      },
      "outputs": [
        {
          "name": "stdout",
          "output_type": "stream",
          "text": [
            "SVM Accuracy: 0.77\n",
            "Decision Tree Accuracy: 0.71\n",
            "Random Forest Accuracy: 0.72\n"
          ]
        }
      ],
      "source": [
        "# Predict by Using Test Data\n",
        "y_pred_svm = svm_model.predict(X_test)\n",
        "y_pred_decisionTree = decisionTree_model.predict(X_test)\n",
        "y_pred_randomForest = randomForest_model.predict(X_test)\n",
        "\n",
        "# Accuracy\n",
        "accuracy_svm = svm_model.score(X_test, y_test)\n",
        "accuracy_decisionTree = decisionTree_model.score(X_test, y_test)\n",
        "accuracy_randomForest = randomForest_model.score(X_test, y_test)\n",
        "\n",
        "# Precision\n",
        "# precision\n",
        "\n",
        "print(f\"SVM Accuracy: {accuracy_svm:.2f}\")\n",
        "print(f\"Decision Tree Accuracy: {accuracy_decisionTree:.2f}\")\n",
        "print(f\"Random Forest Accuracy: {accuracy_randomForest:.2f}\")"
      ]
    },
    {
      "cell_type": "markdown",
      "metadata": {
        "id": "wdreyKk-grLO"
      },
      "source": [
        "1st Trial:<br>\n",
        "SVM Accuracy: 0.77<br>\n",
        "Decision Tree Accuracy: 0.71<br>\n",
        "Random Forest Accuracy: 0.72<br>"
      ]
    },
    {
      "cell_type": "markdown",
      "metadata": {
        "id": "0WRO4mroUw3U"
      },
      "source": [
        "##**2nd Trial**"
      ]
    },
    {
      "cell_type": "markdown",
      "metadata": {
        "id": "i7djQ-pIUQFo"
      },
      "source": [
        "* Industry(Target): Label Encoding\n",
        "* Speciality, Skill(Features): TF-IDF Vectorizer\n",
        "* Company Size(Feature): None"
      ]
    },
    {
      "cell_type": "code",
      "execution_count": null,
      "metadata": {
        "id": "uSRxr95WO77t"
      },
      "outputs": [],
      "source": [
        "# Encode Industry\n",
        "label_encoder = LabelEncoder()\n",
        "df['industry_encoded'] = label_encoder.fit_transform(df['industry'])\n",
        "\n",
        "# Vectorize 'speciality' && 'skill' (TF-IDF)\n",
        "tfidf_spec = TfidfVectorizer()\n",
        "tfidf_skill = TfidfVectorizer()\n",
        "\n",
        "# Column Transformer to apply transformations to the appropriate columns\n",
        "preprocessor = ColumnTransformer(\n",
        "    transformers=[\n",
        "        ('speciality', tfidf_spec, 'speciality'),\n",
        "        ('skill', tfidf_skill, 'skill'),  # Added the column name 'skill'\n",
        "        ('company_size', 'passthrough', ['company_size'])\n",
        "    ])"
      ]
    },
    {
      "cell_type": "code",
      "execution_count": null,
      "metadata": {
        "id": "wrnNuwQJP3sU"
      },
      "outputs": [],
      "source": [
        "# Prepare the features and target variable\n",
        "X = df[['speciality', 'skill', 'company_size']]\n",
        "y = df['industry_encoded']\n",
        "\n",
        "# Define models\n",
        "svm_model = Pipeline(\n",
        "    steps=[('preprocessor', preprocessor),\n",
        "           ('scaler', StandardScaler(with_mean=False)),\n",
        "           ('classifier', SVC())])\n",
        "\n",
        "decisionTree_model = Pipeline(\n",
        "    steps=[('preprocessor', preprocessor),\n",
        "    ('classifier', DecisionTreeClassifier())])\n",
        "\n",
        "randomForest_model = Pipeline(\n",
        "    steps=[('preprocessor', preprocessor),\n",
        "    ('classifier', RandomForestClassifier())])"
      ]
    },
    {
      "cell_type": "code",
      "execution_count": null,
      "metadata": {
        "colab": {
          "base_uri": "https://localhost:8080/",
          "height": 194
        },
        "id": "m0ez_mJaRDxZ",
        "outputId": "da035f7d-95be-4f44-d19a-bcf3537645b6"
      },
      "outputs": [
        {
          "data": {
            "text/html": [
              "<style>#sk-container-id-1 {color: black;background-color: white;}#sk-container-id-1 pre{padding: 0;}#sk-container-id-1 div.sk-toggleable {background-color: white;}#sk-container-id-1 label.sk-toggleable__label {cursor: pointer;display: block;width: 100%;margin-bottom: 0;padding: 0.3em;box-sizing: border-box;text-align: center;}#sk-container-id-1 label.sk-toggleable__label-arrow:before {content: \"▸\";float: left;margin-right: 0.25em;color: #696969;}#sk-container-id-1 label.sk-toggleable__label-arrow:hover:before {color: black;}#sk-container-id-1 div.sk-estimator:hover label.sk-toggleable__label-arrow:before {color: black;}#sk-container-id-1 div.sk-toggleable__content {max-height: 0;max-width: 0;overflow: hidden;text-align: left;background-color: #f0f8ff;}#sk-container-id-1 div.sk-toggleable__content pre {margin: 0.2em;color: black;border-radius: 0.25em;background-color: #f0f8ff;}#sk-container-id-1 input.sk-toggleable__control:checked~div.sk-toggleable__content {max-height: 200px;max-width: 100%;overflow: auto;}#sk-container-id-1 input.sk-toggleable__control:checked~label.sk-toggleable__label-arrow:before {content: \"▾\";}#sk-container-id-1 div.sk-estimator input.sk-toggleable__control:checked~label.sk-toggleable__label {background-color: #d4ebff;}#sk-container-id-1 div.sk-label input.sk-toggleable__control:checked~label.sk-toggleable__label {background-color: #d4ebff;}#sk-container-id-1 input.sk-hidden--visually {border: 0;clip: rect(1px 1px 1px 1px);clip: rect(1px, 1px, 1px, 1px);height: 1px;margin: -1px;overflow: hidden;padding: 0;position: absolute;width: 1px;}#sk-container-id-1 div.sk-estimator {font-family: monospace;background-color: #f0f8ff;border: 1px dotted black;border-radius: 0.25em;box-sizing: border-box;margin-bottom: 0.5em;}#sk-container-id-1 div.sk-estimator:hover {background-color: #d4ebff;}#sk-container-id-1 div.sk-parallel-item::after {content: \"\";width: 100%;border-bottom: 1px solid gray;flex-grow: 1;}#sk-container-id-1 div.sk-label:hover label.sk-toggleable__label {background-color: #d4ebff;}#sk-container-id-1 div.sk-serial::before {content: \"\";position: absolute;border-left: 1px solid gray;box-sizing: border-box;top: 0;bottom: 0;left: 50%;z-index: 0;}#sk-container-id-1 div.sk-serial {display: flex;flex-direction: column;align-items: center;background-color: white;padding-right: 0.2em;padding-left: 0.2em;position: relative;}#sk-container-id-1 div.sk-item {position: relative;z-index: 1;}#sk-container-id-1 div.sk-parallel {display: flex;align-items: stretch;justify-content: center;background-color: white;position: relative;}#sk-container-id-1 div.sk-item::before, #sk-container-id-1 div.sk-parallel-item::before {content: \"\";position: absolute;border-left: 1px solid gray;box-sizing: border-box;top: 0;bottom: 0;left: 50%;z-index: -1;}#sk-container-id-1 div.sk-parallel-item {display: flex;flex-direction: column;z-index: 1;position: relative;background-color: white;}#sk-container-id-1 div.sk-parallel-item:first-child::after {align-self: flex-end;width: 50%;}#sk-container-id-1 div.sk-parallel-item:last-child::after {align-self: flex-start;width: 50%;}#sk-container-id-1 div.sk-parallel-item:only-child::after {width: 0;}#sk-container-id-1 div.sk-dashed-wrapped {border: 1px dashed gray;margin: 0 0.4em 0.5em 0.4em;box-sizing: border-box;padding-bottom: 0.4em;background-color: white;}#sk-container-id-1 div.sk-label label {font-family: monospace;font-weight: bold;display: inline-block;line-height: 1.2em;}#sk-container-id-1 div.sk-label-container {text-align: center;}#sk-container-id-1 div.sk-container {/* jupyter's `normalize.less` sets `[hidden] { display: none; }` but bootstrap.min.css set `[hidden] { display: none !important; }` so we also need the `!important` here to be able to override the default hidden behavior on the sphinx rendered scikit-learn.org. See: https://github.com/scikit-learn/scikit-learn/issues/21755 */display: inline-block !important;position: relative;}#sk-container-id-1 div.sk-text-repr-fallback {display: none;}</style><div id=\"sk-container-id-1\" class=\"sk-top-container\"><div class=\"sk-text-repr-fallback\"><pre>Pipeline(steps=[(&#x27;preprocessor&#x27;,\n",
              "                 ColumnTransformer(transformers=[(&#x27;speciality&#x27;,\n",
              "                                                  TfidfVectorizer(),\n",
              "                                                  &#x27;speciality&#x27;),\n",
              "                                                 (&#x27;skill&#x27;, TfidfVectorizer(),\n",
              "                                                  &#x27;skill&#x27;),\n",
              "                                                 (&#x27;company_size&#x27;, &#x27;passthrough&#x27;,\n",
              "                                                  [&#x27;company_size&#x27;])])),\n",
              "                (&#x27;classifier&#x27;, RandomForestClassifier())])</pre><b>In a Jupyter environment, please rerun this cell to show the HTML representation or trust the notebook. <br />On GitHub, the HTML representation is unable to render, please try loading this page with nbviewer.org.</b></div><div class=\"sk-container\" hidden><div class=\"sk-item sk-dashed-wrapped\"><div class=\"sk-label-container\"><div class=\"sk-label sk-toggleable\"><input class=\"sk-toggleable__control sk-hidden--visually\" id=\"sk-estimator-id-1\" type=\"checkbox\" ><label for=\"sk-estimator-id-1\" class=\"sk-toggleable__label sk-toggleable__label-arrow\">Pipeline</label><div class=\"sk-toggleable__content\"><pre>Pipeline(steps=[(&#x27;preprocessor&#x27;,\n",
              "                 ColumnTransformer(transformers=[(&#x27;speciality&#x27;,\n",
              "                                                  TfidfVectorizer(),\n",
              "                                                  &#x27;speciality&#x27;),\n",
              "                                                 (&#x27;skill&#x27;, TfidfVectorizer(),\n",
              "                                                  &#x27;skill&#x27;),\n",
              "                                                 (&#x27;company_size&#x27;, &#x27;passthrough&#x27;,\n",
              "                                                  [&#x27;company_size&#x27;])])),\n",
              "                (&#x27;classifier&#x27;, RandomForestClassifier())])</pre></div></div></div><div class=\"sk-serial\"><div class=\"sk-item sk-dashed-wrapped\"><div class=\"sk-label-container\"><div class=\"sk-label sk-toggleable\"><input class=\"sk-toggleable__control sk-hidden--visually\" id=\"sk-estimator-id-2\" type=\"checkbox\" ><label for=\"sk-estimator-id-2\" class=\"sk-toggleable__label sk-toggleable__label-arrow\">preprocessor: ColumnTransformer</label><div class=\"sk-toggleable__content\"><pre>ColumnTransformer(transformers=[(&#x27;speciality&#x27;, TfidfVectorizer(), &#x27;speciality&#x27;),\n",
              "                                (&#x27;skill&#x27;, TfidfVectorizer(), &#x27;skill&#x27;),\n",
              "                                (&#x27;company_size&#x27;, &#x27;passthrough&#x27;,\n",
              "                                 [&#x27;company_size&#x27;])])</pre></div></div></div><div class=\"sk-parallel\"><div class=\"sk-parallel-item\"><div class=\"sk-item\"><div class=\"sk-label-container\"><div class=\"sk-label sk-toggleable\"><input class=\"sk-toggleable__control sk-hidden--visually\" id=\"sk-estimator-id-3\" type=\"checkbox\" ><label for=\"sk-estimator-id-3\" class=\"sk-toggleable__label sk-toggleable__label-arrow\">speciality</label><div class=\"sk-toggleable__content\"><pre>speciality</pre></div></div></div><div class=\"sk-serial\"><div class=\"sk-item\"><div class=\"sk-estimator sk-toggleable\"><input class=\"sk-toggleable__control sk-hidden--visually\" id=\"sk-estimator-id-4\" type=\"checkbox\" ><label for=\"sk-estimator-id-4\" class=\"sk-toggleable__label sk-toggleable__label-arrow\">TfidfVectorizer</label><div class=\"sk-toggleable__content\"><pre>TfidfVectorizer()</pre></div></div></div></div></div></div><div class=\"sk-parallel-item\"><div class=\"sk-item\"><div class=\"sk-label-container\"><div class=\"sk-label sk-toggleable\"><input class=\"sk-toggleable__control sk-hidden--visually\" id=\"sk-estimator-id-5\" type=\"checkbox\" ><label for=\"sk-estimator-id-5\" class=\"sk-toggleable__label sk-toggleable__label-arrow\">skill</label><div class=\"sk-toggleable__content\"><pre>skill</pre></div></div></div><div class=\"sk-serial\"><div class=\"sk-item\"><div class=\"sk-estimator sk-toggleable\"><input class=\"sk-toggleable__control sk-hidden--visually\" id=\"sk-estimator-id-6\" type=\"checkbox\" ><label for=\"sk-estimator-id-6\" class=\"sk-toggleable__label sk-toggleable__label-arrow\">TfidfVectorizer</label><div class=\"sk-toggleable__content\"><pre>TfidfVectorizer()</pre></div></div></div></div></div></div><div class=\"sk-parallel-item\"><div class=\"sk-item\"><div class=\"sk-label-container\"><div class=\"sk-label sk-toggleable\"><input class=\"sk-toggleable__control sk-hidden--visually\" id=\"sk-estimator-id-7\" type=\"checkbox\" ><label for=\"sk-estimator-id-7\" class=\"sk-toggleable__label sk-toggleable__label-arrow\">company_size</label><div class=\"sk-toggleable__content\"><pre>[&#x27;company_size&#x27;]</pre></div></div></div><div class=\"sk-serial\"><div class=\"sk-item\"><div class=\"sk-estimator sk-toggleable\"><input class=\"sk-toggleable__control sk-hidden--visually\" id=\"sk-estimator-id-8\" type=\"checkbox\" ><label for=\"sk-estimator-id-8\" class=\"sk-toggleable__label sk-toggleable__label-arrow\">passthrough</label><div class=\"sk-toggleable__content\"><pre>passthrough</pre></div></div></div></div></div></div></div></div><div class=\"sk-item\"><div class=\"sk-estimator sk-toggleable\"><input class=\"sk-toggleable__control sk-hidden--visually\" id=\"sk-estimator-id-9\" type=\"checkbox\" ><label for=\"sk-estimator-id-9\" class=\"sk-toggleable__label sk-toggleable__label-arrow\">RandomForestClassifier</label><div class=\"sk-toggleable__content\"><pre>RandomForestClassifier()</pre></div></div></div></div></div></div></div>"
            ],
            "text/plain": [
              "Pipeline(steps=[('preprocessor',\n",
              "                 ColumnTransformer(transformers=[('speciality',\n",
              "                                                  TfidfVectorizer(),\n",
              "                                                  'speciality'),\n",
              "                                                 ('skill', TfidfVectorizer(),\n",
              "                                                  'skill'),\n",
              "                                                 ('company_size', 'passthrough',\n",
              "                                                  ['company_size'])])),\n",
              "                ('classifier', RandomForestClassifier())])"
            ]
          },
          "execution_count": 11,
          "metadata": {},
          "output_type": "execute_result"
        }
      ],
      "source": [
        "# Split Data(Test Size: 0.2)\n",
        "X_train, X_test, y_train, y_test = train_test_split(X, y, test_size=0.2, random_state=42)\n",
        "\n",
        "# Train Model by using Pipeline\n",
        "svm_model.fit(X_train, y_train)\n",
        "decisionTree_model.fit(X_train, y_train)\n",
        "randomForest_model.fit(X_train, y_train)"
      ]
    },
    {
      "cell_type": "code",
      "execution_count": null,
      "metadata": {
        "id": "wy7e6i9dnSbD"
      },
      "outputs": [],
      "source": [
        "# Predict by Using Test Data\n",
        "y_pred_svm = svm_model.predict(X_test)\n",
        "y_pred_decisionTree = decisionTree_model.predict(X_test)\n",
        "y_pred_randomForest = randomForest_model.predict(X_test)"
      ]
    },
    {
      "cell_type": "code",
      "execution_count": null,
      "metadata": {
        "colab": {
          "base_uri": "https://localhost:8080/"
        },
        "id": "ITr6KuGlRRne",
        "outputId": "ff7b756f-803e-4f22-a552-141bf2ae7931"
      },
      "outputs": [
        {
          "name": "stdout",
          "output_type": "stream",
          "text": [
            "SVM Accuracy: 0.78\n",
            "Decision Tree Accuracy: 0.83\n",
            "Random Forest Accuracy: 0.87\n"
          ]
        }
      ],
      "source": [
        "# Predict by Using Test Data\n",
        "y_pred_svm = svm_model.predict(X_test)\n",
        "y_pred_decisionTree = decisionTree_model.predict(X_test)\n",
        "y_pred_randomForest = randomForest_model.predict(X_test)\n",
        "\n",
        "# Accuracy\n",
        "accuracy_svm = svm_model.score(X_test, y_test)\n",
        "accuracy_decisionTree = decisionTree_model.score(X_test, y_test)\n",
        "accuracy_randomForest = randomForest_model.score(X_test, y_test)\n",
        "\n",
        "# Precision\n",
        "# precision\n",
        "\n",
        "print(f\"SVM Accuracy: {accuracy_svm:.2f}\")\n",
        "print(f\"Decision Tree Accuracy: {accuracy_decisionTree:.2f}\")\n",
        "print(f\"Random Forest Accuracy: {accuracy_randomForest:.2f}\")"
      ]
    },
    {
      "cell_type": "markdown",
      "metadata": {
        "id": "_Q1igf4O6rjH"
      },
      "source": [
        "**K-Fold Validation**"
      ]
    },
    {
      "cell_type": "code",
      "execution_count": null,
      "metadata": {
        "colab": {
          "base_uri": "https://localhost:8080/"
        },
        "id": "11nDULeZnPQt",
        "outputId": "6d9ec84b-64ac-4d2c-9463-e29b1671d9ee"
      },
      "outputs": [
        {
          "name": "stdout",
          "output_type": "stream",
          "text": [
            "SVM Accuracy: 0.7840 ± 0.0055\n",
            "Decision Tree Accuracy: 0.8330 ± 0.0068\n",
            "Random Forest Accuracy: 0.8697 ± 0.0052\n",
            "Ensemble Accuracy: 0.8590 ± 0.0059\n"
          ]
        }
      ],
      "source": [
        "# K-Fold Cross-Validation\n",
        "kf = KFold(n_splits=5, shuffle=True, random_state=42)\n",
        "svm_scores = cross_val_score(svm_model, X, y, cv=kf)\n",
        "dt_scores = cross_val_score(decisionTree_model, X, y, cv=kf)\n",
        "rf_scores = cross_val_score(randomForest_model, X, y, cv=kf)\n",
        "\n",
        "# Ensemble Model\n",
        "ensemble_model = VotingClassifier(\n",
        "    estimators=[('svm', svm_model), ('dt', decisionTree_model), ('rf', randomForest_model)],\n",
        "    voting='hard'\n",
        ")\n",
        "ensemble_scores = cross_val_score(ensemble_model, X, y, cv=kf)\n",
        "\n",
        "# Print results\n",
        "print(f\"SVM Accuracy: {np.mean(svm_scores):.4f} ± {np.std(svm_scores):.4f}\")\n",
        "print(f\"Decision Tree Accuracy: {np.mean(dt_scores):.4f} ± {np.std(dt_scores):.4f}\")\n",
        "print(f\"Random Forest Accuracy: {np.mean(rf_scores):.4f} ± {np.std(rf_scores):.4f}\")\n",
        "print(f\"Ensemble Accuracy: {np.mean(ensemble_scores):.4f} ± {np.std(ensemble_scores):.4f}\")"
      ]
    },
    {
      "cell_type": "markdown",
      "metadata": {
        "id": "MivayJ36TfrA"
      },
      "source": [
        "2nd Trial:<br>\n",
        "SVM Accuracy: 0.78<br>\n",
        "Decision Tree Accuracy: 0.83<br>\n",
        "Random Forest Accuracy: 0.87<br>"
      ]
    },
    {
      "cell_type": "markdown",
      "metadata": {
        "id": "g_stLjkE62sH"
      },
      "source": [
        "K-Fold && Ensemble:<br>\n",
        "SVM Accuracy: 0.7840 ± 0.0055<br>\n",
        "Decision Tree Accuracy: 0.8335 ± 0.0078<br>\n",
        "Random Forest Accuracy: 0.8687 ± 0.0052<br>\n",
        "Ensemble Accuracy: 0.8584 ± 0.0058<br>"
      ]
    },
    {
      "cell_type": "markdown",
      "metadata": {
        "id": "BGshl5QBV24L"
      },
      "source": [
        "## **3rd Trial**"
      ]
    },
    {
      "cell_type": "markdown",
      "metadata": {
        "id": "qG7pxTfGYkVs"
      },
      "source": [
        "\n",
        "\n",
        "* Industry(Target): Label Encoding\n",
        "* Speciality, Skill(Features): TF-IDF Vectorizer\n",
        "* Company Size(Feature): StandardScaler\n",
        "\n",
        "\n"
      ]
    },
    {
      "cell_type": "code",
      "execution_count": null,
      "metadata": {
        "id": "2RiqxOSaSrpt"
      },
      "outputs": [],
      "source": [
        "# Encode Industry\n",
        "label_encoder = LabelEncoder()\n",
        "df['industry_encoded'] = label_encoder.fit_transform(df['industry'])\n",
        "\n",
        "# Vectorize 'speciality' && 'skill' (TF-IDF)\n",
        "tfidf_spec = TfidfVectorizer()\n",
        "tfidf_skill = TfidfVectorizer()\n",
        "\n",
        "# Column Transformer to apply transformations to the appropriate columns\n",
        "preprocessor = ColumnTransformer(\n",
        "    transformers=[\n",
        "        ('speciality', tfidf_spec, 'speciality'),\n",
        "        ('skill', tfidf_skill, 'skill'),  # Added the column name 'skill'\n",
        "        ('company_size', StandardScaler(), ['company_size'])\n",
        "    ])"
      ]
    },
    {
      "cell_type": "code",
      "execution_count": null,
      "metadata": {
        "id": "_uw8LdjsYgF7"
      },
      "outputs": [],
      "source": [
        "# Prepare the features and target variable\n",
        "X = df[['speciality', 'skill', 'company_size']]\n",
        "y = df['industry_encoded']\n",
        "\n",
        "# Define models\n",
        "svm_model = Pipeline(\n",
        "    steps=[('preprocessor', preprocessor),\n",
        "           ('scaler', StandardScaler(with_mean=False)),\n",
        "           ('classifier', SVC())])\n",
        "\n",
        "decisionTree_model = Pipeline(\n",
        "    steps=[('preprocessor', preprocessor),\n",
        "    ('classifier', DecisionTreeClassifier())])\n",
        "\n",
        "randomForest_model = Pipeline(\n",
        "    steps=[('preprocessor', preprocessor),\n",
        "    ('classifier', RandomForestClassifier())])"
      ]
    },
    {
      "cell_type": "code",
      "execution_count": null,
      "metadata": {
        "colab": {
          "base_uri": "https://localhost:8080/",
          "height": 192
        },
        "id": "aGGgC-u0Yhst",
        "outputId": "6737bac1-20fa-484f-ceb1-2cd9f20d3698"
      },
      "outputs": [
        {
          "data": {
            "text/html": [
              "<style>#sk-container-id-1 {color: black;background-color: white;}#sk-container-id-1 pre{padding: 0;}#sk-container-id-1 div.sk-toggleable {background-color: white;}#sk-container-id-1 label.sk-toggleable__label {cursor: pointer;display: block;width: 100%;margin-bottom: 0;padding: 0.3em;box-sizing: border-box;text-align: center;}#sk-container-id-1 label.sk-toggleable__label-arrow:before {content: \"▸\";float: left;margin-right: 0.25em;color: #696969;}#sk-container-id-1 label.sk-toggleable__label-arrow:hover:before {color: black;}#sk-container-id-1 div.sk-estimator:hover label.sk-toggleable__label-arrow:before {color: black;}#sk-container-id-1 div.sk-toggleable__content {max-height: 0;max-width: 0;overflow: hidden;text-align: left;background-color: #f0f8ff;}#sk-container-id-1 div.sk-toggleable__content pre {margin: 0.2em;color: black;border-radius: 0.25em;background-color: #f0f8ff;}#sk-container-id-1 input.sk-toggleable__control:checked~div.sk-toggleable__content {max-height: 200px;max-width: 100%;overflow: auto;}#sk-container-id-1 input.sk-toggleable__control:checked~label.sk-toggleable__label-arrow:before {content: \"▾\";}#sk-container-id-1 div.sk-estimator input.sk-toggleable__control:checked~label.sk-toggleable__label {background-color: #d4ebff;}#sk-container-id-1 div.sk-label input.sk-toggleable__control:checked~label.sk-toggleable__label {background-color: #d4ebff;}#sk-container-id-1 input.sk-hidden--visually {border: 0;clip: rect(1px 1px 1px 1px);clip: rect(1px, 1px, 1px, 1px);height: 1px;margin: -1px;overflow: hidden;padding: 0;position: absolute;width: 1px;}#sk-container-id-1 div.sk-estimator {font-family: monospace;background-color: #f0f8ff;border: 1px dotted black;border-radius: 0.25em;box-sizing: border-box;margin-bottom: 0.5em;}#sk-container-id-1 div.sk-estimator:hover {background-color: #d4ebff;}#sk-container-id-1 div.sk-parallel-item::after {content: \"\";width: 100%;border-bottom: 1px solid gray;flex-grow: 1;}#sk-container-id-1 div.sk-label:hover label.sk-toggleable__label {background-color: #d4ebff;}#sk-container-id-1 div.sk-serial::before {content: \"\";position: absolute;border-left: 1px solid gray;box-sizing: border-box;top: 0;bottom: 0;left: 50%;z-index: 0;}#sk-container-id-1 div.sk-serial {display: flex;flex-direction: column;align-items: center;background-color: white;padding-right: 0.2em;padding-left: 0.2em;position: relative;}#sk-container-id-1 div.sk-item {position: relative;z-index: 1;}#sk-container-id-1 div.sk-parallel {display: flex;align-items: stretch;justify-content: center;background-color: white;position: relative;}#sk-container-id-1 div.sk-item::before, #sk-container-id-1 div.sk-parallel-item::before {content: \"\";position: absolute;border-left: 1px solid gray;box-sizing: border-box;top: 0;bottom: 0;left: 50%;z-index: -1;}#sk-container-id-1 div.sk-parallel-item {display: flex;flex-direction: column;z-index: 1;position: relative;background-color: white;}#sk-container-id-1 div.sk-parallel-item:first-child::after {align-self: flex-end;width: 50%;}#sk-container-id-1 div.sk-parallel-item:last-child::after {align-self: flex-start;width: 50%;}#sk-container-id-1 div.sk-parallel-item:only-child::after {width: 0;}#sk-container-id-1 div.sk-dashed-wrapped {border: 1px dashed gray;margin: 0 0.4em 0.5em 0.4em;box-sizing: border-box;padding-bottom: 0.4em;background-color: white;}#sk-container-id-1 div.sk-label label {font-family: monospace;font-weight: bold;display: inline-block;line-height: 1.2em;}#sk-container-id-1 div.sk-label-container {text-align: center;}#sk-container-id-1 div.sk-container {/* jupyter's `normalize.less` sets `[hidden] { display: none; }` but bootstrap.min.css set `[hidden] { display: none !important; }` so we also need the `!important` here to be able to override the default hidden behavior on the sphinx rendered scikit-learn.org. See: https://github.com/scikit-learn/scikit-learn/issues/21755 */display: inline-block !important;position: relative;}#sk-container-id-1 div.sk-text-repr-fallback {display: none;}</style><div id=\"sk-container-id-1\" class=\"sk-top-container\"><div class=\"sk-text-repr-fallback\"><pre>Pipeline(steps=[(&#x27;preprocessor&#x27;,\n",
              "                 ColumnTransformer(transformers=[(&#x27;speciality&#x27;,\n",
              "                                                  TfidfVectorizer(),\n",
              "                                                  &#x27;speciality&#x27;),\n",
              "                                                 (&#x27;skill&#x27;, TfidfVectorizer(),\n",
              "                                                  &#x27;skill&#x27;),\n",
              "                                                 (&#x27;company_size&#x27;,\n",
              "                                                  StandardScaler(),\n",
              "                                                  [&#x27;company_size&#x27;])])),\n",
              "                (&#x27;classifier&#x27;, RandomForestClassifier())])</pre><b>In a Jupyter environment, please rerun this cell to show the HTML representation or trust the notebook. <br />On GitHub, the HTML representation is unable to render, please try loading this page with nbviewer.org.</b></div><div class=\"sk-container\" hidden><div class=\"sk-item sk-dashed-wrapped\"><div class=\"sk-label-container\"><div class=\"sk-label sk-toggleable\"><input class=\"sk-toggleable__control sk-hidden--visually\" id=\"sk-estimator-id-1\" type=\"checkbox\" ><label for=\"sk-estimator-id-1\" class=\"sk-toggleable__label sk-toggleable__label-arrow\">Pipeline</label><div class=\"sk-toggleable__content\"><pre>Pipeline(steps=[(&#x27;preprocessor&#x27;,\n",
              "                 ColumnTransformer(transformers=[(&#x27;speciality&#x27;,\n",
              "                                                  TfidfVectorizer(),\n",
              "                                                  &#x27;speciality&#x27;),\n",
              "                                                 (&#x27;skill&#x27;, TfidfVectorizer(),\n",
              "                                                  &#x27;skill&#x27;),\n",
              "                                                 (&#x27;company_size&#x27;,\n",
              "                                                  StandardScaler(),\n",
              "                                                  [&#x27;company_size&#x27;])])),\n",
              "                (&#x27;classifier&#x27;, RandomForestClassifier())])</pre></div></div></div><div class=\"sk-serial\"><div class=\"sk-item sk-dashed-wrapped\"><div class=\"sk-label-container\"><div class=\"sk-label sk-toggleable\"><input class=\"sk-toggleable__control sk-hidden--visually\" id=\"sk-estimator-id-2\" type=\"checkbox\" ><label for=\"sk-estimator-id-2\" class=\"sk-toggleable__label sk-toggleable__label-arrow\">preprocessor: ColumnTransformer</label><div class=\"sk-toggleable__content\"><pre>ColumnTransformer(transformers=[(&#x27;speciality&#x27;, TfidfVectorizer(), &#x27;speciality&#x27;),\n",
              "                                (&#x27;skill&#x27;, TfidfVectorizer(), &#x27;skill&#x27;),\n",
              "                                (&#x27;company_size&#x27;, StandardScaler(),\n",
              "                                 [&#x27;company_size&#x27;])])</pre></div></div></div><div class=\"sk-parallel\"><div class=\"sk-parallel-item\"><div class=\"sk-item\"><div class=\"sk-label-container\"><div class=\"sk-label sk-toggleable\"><input class=\"sk-toggleable__control sk-hidden--visually\" id=\"sk-estimator-id-3\" type=\"checkbox\" ><label for=\"sk-estimator-id-3\" class=\"sk-toggleable__label sk-toggleable__label-arrow\">speciality</label><div class=\"sk-toggleable__content\"><pre>speciality</pre></div></div></div><div class=\"sk-serial\"><div class=\"sk-item\"><div class=\"sk-estimator sk-toggleable\"><input class=\"sk-toggleable__control sk-hidden--visually\" id=\"sk-estimator-id-4\" type=\"checkbox\" ><label for=\"sk-estimator-id-4\" class=\"sk-toggleable__label sk-toggleable__label-arrow\">TfidfVectorizer</label><div class=\"sk-toggleable__content\"><pre>TfidfVectorizer()</pre></div></div></div></div></div></div><div class=\"sk-parallel-item\"><div class=\"sk-item\"><div class=\"sk-label-container\"><div class=\"sk-label sk-toggleable\"><input class=\"sk-toggleable__control sk-hidden--visually\" id=\"sk-estimator-id-5\" type=\"checkbox\" ><label for=\"sk-estimator-id-5\" class=\"sk-toggleable__label sk-toggleable__label-arrow\">skill</label><div class=\"sk-toggleable__content\"><pre>skill</pre></div></div></div><div class=\"sk-serial\"><div class=\"sk-item\"><div class=\"sk-estimator sk-toggleable\"><input class=\"sk-toggleable__control sk-hidden--visually\" id=\"sk-estimator-id-6\" type=\"checkbox\" ><label for=\"sk-estimator-id-6\" class=\"sk-toggleable__label sk-toggleable__label-arrow\">TfidfVectorizer</label><div class=\"sk-toggleable__content\"><pre>TfidfVectorizer()</pre></div></div></div></div></div></div><div class=\"sk-parallel-item\"><div class=\"sk-item\"><div class=\"sk-label-container\"><div class=\"sk-label sk-toggleable\"><input class=\"sk-toggleable__control sk-hidden--visually\" id=\"sk-estimator-id-7\" type=\"checkbox\" ><label for=\"sk-estimator-id-7\" class=\"sk-toggleable__label sk-toggleable__label-arrow\">company_size</label><div class=\"sk-toggleable__content\"><pre>[&#x27;company_size&#x27;]</pre></div></div></div><div class=\"sk-serial\"><div class=\"sk-item\"><div class=\"sk-estimator sk-toggleable\"><input class=\"sk-toggleable__control sk-hidden--visually\" id=\"sk-estimator-id-8\" type=\"checkbox\" ><label for=\"sk-estimator-id-8\" class=\"sk-toggleable__label sk-toggleable__label-arrow\">StandardScaler</label><div class=\"sk-toggleable__content\"><pre>StandardScaler()</pre></div></div></div></div></div></div></div></div><div class=\"sk-item\"><div class=\"sk-estimator sk-toggleable\"><input class=\"sk-toggleable__control sk-hidden--visually\" id=\"sk-estimator-id-9\" type=\"checkbox\" ><label for=\"sk-estimator-id-9\" class=\"sk-toggleable__label sk-toggleable__label-arrow\">RandomForestClassifier</label><div class=\"sk-toggleable__content\"><pre>RandomForestClassifier()</pre></div></div></div></div></div></div></div>"
            ],
            "text/plain": [
              "Pipeline(steps=[('preprocessor',\n",
              "                 ColumnTransformer(transformers=[('speciality',\n",
              "                                                  TfidfVectorizer(),\n",
              "                                                  'speciality'),\n",
              "                                                 ('skill', TfidfVectorizer(),\n",
              "                                                  'skill'),\n",
              "                                                 ('company_size',\n",
              "                                                  StandardScaler(),\n",
              "                                                  ['company_size'])])),\n",
              "                ('classifier', RandomForestClassifier())])"
            ]
          },
          "execution_count": 13,
          "metadata": {},
          "output_type": "execute_result"
        }
      ],
      "source": [
        "# Split Data(Test Size: 0.2)\n",
        "X_train, X_test, y_train, y_test = train_test_split(X, y, test_size=0.2, random_state=42)\n",
        "\n",
        "# Train Model by using Pipeline\n",
        "svm_model.fit(X_train, y_train)\n",
        "decisionTree_model.fit(X_train, y_train)\n",
        "randomForest_model.fit(X_train, y_train)"
      ]
    },
    {
      "cell_type": "code",
      "execution_count": null,
      "metadata": {
        "colab": {
          "base_uri": "https://localhost:8080/"
        },
        "id": "BfYKofk7YjKf",
        "outputId": "ca058ebb-9999-4bbb-92f9-3e8483b4a952"
      },
      "outputs": [
        {
          "name": "stdout",
          "output_type": "stream",
          "text": [
            "SVM Accuracy: 0.78\n",
            "Decision Tree Accuracy: 0.83\n",
            "Random Forest Accuracy: 0.87\n"
          ]
        }
      ],
      "source": [
        "# Predict by Using Test Data\n",
        "y_pred_svm = svm_model.predict(X_test)\n",
        "y_pred_decisionTree = decisionTree_model.predict(X_test)\n",
        "y_pred_randomForest = randomForest_model.predict(X_test)\n",
        "\n",
        "# Accuracy\n",
        "accuracy_svm = svm_model.score(X_test, y_test)\n",
        "accuracy_decisionTree = decisionTree_model.score(X_test, y_test)\n",
        "accuracy_randomForest = randomForest_model.score(X_test, y_test)\n",
        "\n",
        "# Precision\n",
        "# precision\n",
        "\n",
        "print(f\"SVM Accuracy: {accuracy_svm:.2f}\")\n",
        "print(f\"Decision Tree Accuracy: {accuracy_decisionTree:.2f}\")\n",
        "print(f\"Random Forest Accuracy: {accuracy_randomForest:.2f}\")"
      ]
    },
    {
      "cell_type": "markdown",
      "metadata": {
        "id": "MS7zr3tSmTHD"
      },
      "source": [
        "3rd Trial<br>\n",
        "SVM Accuracy: 0.78<br>\n",
        "Decision Tree Accuracy: 0.83<br>\n",
        "Random Forest Accuracy: 0.87<br>"
      ]
    },
    {
      "cell_type": "markdown",
      "metadata": {
        "id": "pMSlGMTrg-y2"
      },
      "source": [
        "## **4th Trial**"
      ]
    },
    {
      "cell_type": "markdown",
      "metadata": {
        "id": "IhafSutjh3Sq"
      },
      "source": [
        "* Industry(Target): None\n",
        "* Speciality, Skill(Features): TF-IDF Vectorizer\n",
        "* Company Size(Feature): None\n"
      ]
    },
    {
      "cell_type": "code",
      "execution_count": null,
      "metadata": {
        "id": "DmB6Ekbdg9Qr"
      },
      "outputs": [],
      "source": [
        "# Encode Industry\n",
        "label_encoder = LabelEncoder()\n",
        "df['industry_encoded'] = label_encoder.fit_transform(df['industry'])\n",
        "\n",
        "# Vectorize 'speciality' && 'skill' (TF-IDF)\n",
        "tfidf_spec = TfidfVectorizer()\n",
        "tfidf_skill = TfidfVectorizer()\n",
        "\n",
        "# Column Transformer to apply transformations to the appropriate columns\n",
        "preprocessor = ColumnTransformer(\n",
        "    transformers=[\n",
        "        ('speciality', tfidf_spec, 'speciality'),\n",
        "        ('skill', tfidf_skill, 'skill'),  # Added the column name 'skill'\n",
        "        ('company_size', 'passthrough', 'company_size')  # Corrected the 'company_size' transformer\n",
        "    ])"
      ]
    },
    {
      "cell_type": "code",
      "execution_count": null,
      "metadata": {
        "id": "G2IXa54-iPmz"
      },
      "outputs": [],
      "source": [
        "# Prepare the features and target variable\n",
        "X = df[['speciality', 'skill', 'company_size']]\n",
        "y = df['industry_encoded']\n",
        "\n",
        "# Define models\n",
        "svm_model = Pipeline(\n",
        "    steps=[('preprocessor', preprocessor),\n",
        "           ('scaler', StandardScaler(with_mean=False)),\n",
        "           ('classifier', SVC())])\n",
        "\n",
        "decisionTree_model = Pipeline(\n",
        "    steps=[('preprocessor', preprocessor),\n",
        "    ('classifier', DecisionTreeClassifier())])\n",
        "\n",
        "randomForest_model = Pipeline(\n",
        "    steps=[('preprocessor', preprocessor),\n",
        "    ('classifier', RandomForestClassifier())])"
      ]
    },
    {
      "cell_type": "code",
      "execution_count": null,
      "metadata": {
        "colab": {
          "base_uri": "https://localhost:8080/",
          "height": 356
        },
        "id": "BcmhYViIiQ69",
        "outputId": "7c66ae3d-d72e-4919-b4a2-d64c1c44095d"
      },
      "outputs": [
        {
          "ename": "ValueError",
          "evalue": "not enough values to unpack (expected 3, got 2)",
          "output_type": "error",
          "traceback": [
            "\u001b[0;31m---------------------------------------------------------------------------\u001b[0m",
            "\u001b[0;31mValueError\u001b[0m                                Traceback (most recent call last)",
            "\u001b[0;32m<ipython-input-17-695228a4aad1>\u001b[0m in \u001b[0;36m<cell line: 5>\u001b[0;34m()\u001b[0m\n\u001b[1;32m      3\u001b[0m \u001b[0;34m\u001b[0m\u001b[0m\n\u001b[1;32m      4\u001b[0m \u001b[0;31m# Train Model by using Pipeline\u001b[0m\u001b[0;34m\u001b[0m\u001b[0;34m\u001b[0m\u001b[0m\n\u001b[0;32m----> 5\u001b[0;31m \u001b[0msvm_model\u001b[0m\u001b[0;34m.\u001b[0m\u001b[0mfit\u001b[0m\u001b[0;34m(\u001b[0m\u001b[0mX_train\u001b[0m\u001b[0;34m,\u001b[0m \u001b[0my_train\u001b[0m\u001b[0;34m)\u001b[0m\u001b[0;34m\u001b[0m\u001b[0;34m\u001b[0m\u001b[0m\n\u001b[0m\u001b[1;32m      6\u001b[0m \u001b[0mdecisionTree_model\u001b[0m\u001b[0;34m.\u001b[0m\u001b[0mfit\u001b[0m\u001b[0;34m(\u001b[0m\u001b[0mX_train\u001b[0m\u001b[0;34m,\u001b[0m \u001b[0my_train\u001b[0m\u001b[0;34m)\u001b[0m\u001b[0;34m\u001b[0m\u001b[0;34m\u001b[0m\u001b[0m\n\u001b[1;32m      7\u001b[0m \u001b[0mrandomForest_model\u001b[0m\u001b[0;34m.\u001b[0m\u001b[0mfit\u001b[0m\u001b[0;34m(\u001b[0m\u001b[0mX_train\u001b[0m\u001b[0;34m,\u001b[0m \u001b[0my_train\u001b[0m\u001b[0;34m)\u001b[0m\u001b[0;34m\u001b[0m\u001b[0;34m\u001b[0m\u001b[0m\n",
            "\u001b[0;32m/usr/local/lib/python3.10/dist-packages/sklearn/pipeline.py\u001b[0m in \u001b[0;36mfit\u001b[0;34m(self, X, y, **fit_params)\u001b[0m\n\u001b[1;32m    399\u001b[0m         \"\"\"\n\u001b[1;32m    400\u001b[0m         \u001b[0mfit_params_steps\u001b[0m \u001b[0;34m=\u001b[0m \u001b[0mself\u001b[0m\u001b[0;34m.\u001b[0m\u001b[0m_check_fit_params\u001b[0m\u001b[0;34m(\u001b[0m\u001b[0;34m**\u001b[0m\u001b[0mfit_params\u001b[0m\u001b[0;34m)\u001b[0m\u001b[0;34m\u001b[0m\u001b[0;34m\u001b[0m\u001b[0m\n\u001b[0;32m--> 401\u001b[0;31m         \u001b[0mXt\u001b[0m \u001b[0;34m=\u001b[0m \u001b[0mself\u001b[0m\u001b[0;34m.\u001b[0m\u001b[0m_fit\u001b[0m\u001b[0;34m(\u001b[0m\u001b[0mX\u001b[0m\u001b[0;34m,\u001b[0m \u001b[0my\u001b[0m\u001b[0;34m,\u001b[0m \u001b[0;34m**\u001b[0m\u001b[0mfit_params_steps\u001b[0m\u001b[0;34m)\u001b[0m\u001b[0;34m\u001b[0m\u001b[0;34m\u001b[0m\u001b[0m\n\u001b[0m\u001b[1;32m    402\u001b[0m         \u001b[0;32mwith\u001b[0m \u001b[0m_print_elapsed_time\u001b[0m\u001b[0;34m(\u001b[0m\u001b[0;34m\"Pipeline\"\u001b[0m\u001b[0;34m,\u001b[0m \u001b[0mself\u001b[0m\u001b[0;34m.\u001b[0m\u001b[0m_log_message\u001b[0m\u001b[0;34m(\u001b[0m\u001b[0mlen\u001b[0m\u001b[0;34m(\u001b[0m\u001b[0mself\u001b[0m\u001b[0;34m.\u001b[0m\u001b[0msteps\u001b[0m\u001b[0;34m)\u001b[0m \u001b[0;34m-\u001b[0m \u001b[0;36m1\u001b[0m\u001b[0;34m)\u001b[0m\u001b[0;34m)\u001b[0m\u001b[0;34m:\u001b[0m\u001b[0;34m\u001b[0m\u001b[0;34m\u001b[0m\u001b[0m\n\u001b[1;32m    403\u001b[0m             \u001b[0;32mif\u001b[0m \u001b[0mself\u001b[0m\u001b[0;34m.\u001b[0m\u001b[0m_final_estimator\u001b[0m \u001b[0;34m!=\u001b[0m \u001b[0;34m\"passthrough\"\u001b[0m\u001b[0;34m:\u001b[0m\u001b[0;34m\u001b[0m\u001b[0;34m\u001b[0m\u001b[0m\n",
            "\u001b[0;32m/usr/local/lib/python3.10/dist-packages/sklearn/pipeline.py\u001b[0m in \u001b[0;36m_fit\u001b[0;34m(self, X, y, **fit_params_steps)\u001b[0m\n\u001b[1;32m    357\u001b[0m                 \u001b[0mcloned_transformer\u001b[0m \u001b[0;34m=\u001b[0m \u001b[0mclone\u001b[0m\u001b[0;34m(\u001b[0m\u001b[0mtransformer\u001b[0m\u001b[0;34m)\u001b[0m\u001b[0;34m\u001b[0m\u001b[0;34m\u001b[0m\u001b[0m\n\u001b[1;32m    358\u001b[0m             \u001b[0;31m# Fit or load from cache the current transformer\u001b[0m\u001b[0;34m\u001b[0m\u001b[0;34m\u001b[0m\u001b[0m\n\u001b[0;32m--> 359\u001b[0;31m             X, fitted_transformer = fit_transform_one_cached(\n\u001b[0m\u001b[1;32m    360\u001b[0m                 \u001b[0mcloned_transformer\u001b[0m\u001b[0;34m,\u001b[0m\u001b[0;34m\u001b[0m\u001b[0;34m\u001b[0m\u001b[0m\n\u001b[1;32m    361\u001b[0m                 \u001b[0mX\u001b[0m\u001b[0;34m,\u001b[0m\u001b[0;34m\u001b[0m\u001b[0;34m\u001b[0m\u001b[0m\n",
            "\u001b[0;32m/usr/local/lib/python3.10/dist-packages/joblib/memory.py\u001b[0m in \u001b[0;36m__call__\u001b[0;34m(self, *args, **kwargs)\u001b[0m\n\u001b[1;32m    310\u001b[0m \u001b[0;34m\u001b[0m\u001b[0m\n\u001b[1;32m    311\u001b[0m     \u001b[0;32mdef\u001b[0m \u001b[0m__call__\u001b[0m\u001b[0;34m(\u001b[0m\u001b[0mself\u001b[0m\u001b[0;34m,\u001b[0m \u001b[0;34m*\u001b[0m\u001b[0margs\u001b[0m\u001b[0;34m,\u001b[0m \u001b[0;34m**\u001b[0m\u001b[0mkwargs\u001b[0m\u001b[0;34m)\u001b[0m\u001b[0;34m:\u001b[0m\u001b[0;34m\u001b[0m\u001b[0;34m\u001b[0m\u001b[0m\n\u001b[0;32m--> 312\u001b[0;31m         \u001b[0;32mreturn\u001b[0m \u001b[0mself\u001b[0m\u001b[0;34m.\u001b[0m\u001b[0mfunc\u001b[0m\u001b[0;34m(\u001b[0m\u001b[0;34m*\u001b[0m\u001b[0margs\u001b[0m\u001b[0;34m,\u001b[0m \u001b[0;34m**\u001b[0m\u001b[0mkwargs\u001b[0m\u001b[0;34m)\u001b[0m\u001b[0;34m\u001b[0m\u001b[0;34m\u001b[0m\u001b[0m\n\u001b[0m\u001b[1;32m    313\u001b[0m \u001b[0;34m\u001b[0m\u001b[0m\n\u001b[1;32m    314\u001b[0m     \u001b[0;32mdef\u001b[0m \u001b[0mcall_and_shelve\u001b[0m\u001b[0;34m(\u001b[0m\u001b[0mself\u001b[0m\u001b[0;34m,\u001b[0m \u001b[0;34m*\u001b[0m\u001b[0margs\u001b[0m\u001b[0;34m,\u001b[0m \u001b[0;34m**\u001b[0m\u001b[0mkwargs\u001b[0m\u001b[0;34m)\u001b[0m\u001b[0;34m:\u001b[0m\u001b[0;34m\u001b[0m\u001b[0;34m\u001b[0m\u001b[0m\n",
            "\u001b[0;32m/usr/local/lib/python3.10/dist-packages/sklearn/pipeline.py\u001b[0m in \u001b[0;36m_fit_transform_one\u001b[0;34m(transformer, X, y, weight, message_clsname, message, **fit_params)\u001b[0m\n\u001b[1;32m    891\u001b[0m     \u001b[0;32mwith\u001b[0m \u001b[0m_print_elapsed_time\u001b[0m\u001b[0;34m(\u001b[0m\u001b[0mmessage_clsname\u001b[0m\u001b[0;34m,\u001b[0m \u001b[0mmessage\u001b[0m\u001b[0;34m)\u001b[0m\u001b[0;34m:\u001b[0m\u001b[0;34m\u001b[0m\u001b[0;34m\u001b[0m\u001b[0m\n\u001b[1;32m    892\u001b[0m         \u001b[0;32mif\u001b[0m \u001b[0mhasattr\u001b[0m\u001b[0;34m(\u001b[0m\u001b[0mtransformer\u001b[0m\u001b[0;34m,\u001b[0m \u001b[0;34m\"fit_transform\"\u001b[0m\u001b[0;34m)\u001b[0m\u001b[0;34m:\u001b[0m\u001b[0;34m\u001b[0m\u001b[0;34m\u001b[0m\u001b[0m\n\u001b[0;32m--> 893\u001b[0;31m             \u001b[0mres\u001b[0m \u001b[0;34m=\u001b[0m \u001b[0mtransformer\u001b[0m\u001b[0;34m.\u001b[0m\u001b[0mfit_transform\u001b[0m\u001b[0;34m(\u001b[0m\u001b[0mX\u001b[0m\u001b[0;34m,\u001b[0m \u001b[0my\u001b[0m\u001b[0;34m,\u001b[0m \u001b[0;34m**\u001b[0m\u001b[0mfit_params\u001b[0m\u001b[0;34m)\u001b[0m\u001b[0;34m\u001b[0m\u001b[0;34m\u001b[0m\u001b[0m\n\u001b[0m\u001b[1;32m    894\u001b[0m         \u001b[0;32melse\u001b[0m\u001b[0;34m:\u001b[0m\u001b[0;34m\u001b[0m\u001b[0;34m\u001b[0m\u001b[0m\n\u001b[1;32m    895\u001b[0m             \u001b[0mres\u001b[0m \u001b[0;34m=\u001b[0m \u001b[0mtransformer\u001b[0m\u001b[0;34m.\u001b[0m\u001b[0mfit\u001b[0m\u001b[0;34m(\u001b[0m\u001b[0mX\u001b[0m\u001b[0;34m,\u001b[0m \u001b[0my\u001b[0m\u001b[0;34m,\u001b[0m \u001b[0;34m**\u001b[0m\u001b[0mfit_params\u001b[0m\u001b[0;34m)\u001b[0m\u001b[0;34m.\u001b[0m\u001b[0mtransform\u001b[0m\u001b[0;34m(\u001b[0m\u001b[0mX\u001b[0m\u001b[0;34m)\u001b[0m\u001b[0;34m\u001b[0m\u001b[0;34m\u001b[0m\u001b[0m\n",
            "\u001b[0;32m/usr/local/lib/python3.10/dist-packages/sklearn/utils/_set_output.py\u001b[0m in \u001b[0;36mwrapped\u001b[0;34m(self, X, *args, **kwargs)\u001b[0m\n\u001b[1;32m    138\u001b[0m     \u001b[0;34m@\u001b[0m\u001b[0mwraps\u001b[0m\u001b[0;34m(\u001b[0m\u001b[0mf\u001b[0m\u001b[0;34m)\u001b[0m\u001b[0;34m\u001b[0m\u001b[0;34m\u001b[0m\u001b[0m\n\u001b[1;32m    139\u001b[0m     \u001b[0;32mdef\u001b[0m \u001b[0mwrapped\u001b[0m\u001b[0;34m(\u001b[0m\u001b[0mself\u001b[0m\u001b[0;34m,\u001b[0m \u001b[0mX\u001b[0m\u001b[0;34m,\u001b[0m \u001b[0;34m*\u001b[0m\u001b[0margs\u001b[0m\u001b[0;34m,\u001b[0m \u001b[0;34m**\u001b[0m\u001b[0mkwargs\u001b[0m\u001b[0;34m)\u001b[0m\u001b[0;34m:\u001b[0m\u001b[0;34m\u001b[0m\u001b[0;34m\u001b[0m\u001b[0m\n\u001b[0;32m--> 140\u001b[0;31m         \u001b[0mdata_to_wrap\u001b[0m \u001b[0;34m=\u001b[0m \u001b[0mf\u001b[0m\u001b[0;34m(\u001b[0m\u001b[0mself\u001b[0m\u001b[0;34m,\u001b[0m \u001b[0mX\u001b[0m\u001b[0;34m,\u001b[0m \u001b[0;34m*\u001b[0m\u001b[0margs\u001b[0m\u001b[0;34m,\u001b[0m \u001b[0;34m**\u001b[0m\u001b[0mkwargs\u001b[0m\u001b[0;34m)\u001b[0m\u001b[0;34m\u001b[0m\u001b[0;34m\u001b[0m\u001b[0m\n\u001b[0m\u001b[1;32m    141\u001b[0m         \u001b[0;32mif\u001b[0m \u001b[0misinstance\u001b[0m\u001b[0;34m(\u001b[0m\u001b[0mdata_to_wrap\u001b[0m\u001b[0;34m,\u001b[0m \u001b[0mtuple\u001b[0m\u001b[0;34m)\u001b[0m\u001b[0;34m:\u001b[0m\u001b[0;34m\u001b[0m\u001b[0;34m\u001b[0m\u001b[0m\n\u001b[1;32m    142\u001b[0m             \u001b[0;31m# only wrap the first output for cross decomposition\u001b[0m\u001b[0;34m\u001b[0m\u001b[0;34m\u001b[0m\u001b[0m\n",
            "\u001b[0;32m/usr/local/lib/python3.10/dist-packages/sklearn/compose/_column_transformer.py\u001b[0m in \u001b[0;36mfit_transform\u001b[0;34m(self, X, y)\u001b[0m\n\u001b[1;32m    721\u001b[0m         \u001b[0;31m# set n_features_in_ attribute\u001b[0m\u001b[0;34m\u001b[0m\u001b[0;34m\u001b[0m\u001b[0m\n\u001b[1;32m    722\u001b[0m         \u001b[0mself\u001b[0m\u001b[0;34m.\u001b[0m\u001b[0m_check_n_features\u001b[0m\u001b[0;34m(\u001b[0m\u001b[0mX\u001b[0m\u001b[0;34m,\u001b[0m \u001b[0mreset\u001b[0m\u001b[0;34m=\u001b[0m\u001b[0;32mTrue\u001b[0m\u001b[0;34m)\u001b[0m\u001b[0;34m\u001b[0m\u001b[0;34m\u001b[0m\u001b[0m\n\u001b[0;32m--> 723\u001b[0;31m         \u001b[0mself\u001b[0m\u001b[0;34m.\u001b[0m\u001b[0m_validate_transformers\u001b[0m\u001b[0;34m(\u001b[0m\u001b[0;34m)\u001b[0m\u001b[0;34m\u001b[0m\u001b[0;34m\u001b[0m\u001b[0m\n\u001b[0m\u001b[1;32m    724\u001b[0m         \u001b[0mself\u001b[0m\u001b[0;34m.\u001b[0m\u001b[0m_validate_column_callables\u001b[0m\u001b[0;34m(\u001b[0m\u001b[0mX\u001b[0m\u001b[0;34m)\u001b[0m\u001b[0;34m\u001b[0m\u001b[0;34m\u001b[0m\u001b[0m\n\u001b[1;32m    725\u001b[0m         \u001b[0mself\u001b[0m\u001b[0;34m.\u001b[0m\u001b[0m_validate_remainder\u001b[0m\u001b[0;34m(\u001b[0m\u001b[0mX\u001b[0m\u001b[0;34m)\u001b[0m\u001b[0;34m\u001b[0m\u001b[0;34m\u001b[0m\u001b[0m\n",
            "\u001b[0;32m/usr/local/lib/python3.10/dist-packages/sklearn/compose/_column_transformer.py\u001b[0m in \u001b[0;36m_validate_transformers\u001b[0;34m(self)\u001b[0m\n\u001b[1;32m    396\u001b[0m             \u001b[0;32mreturn\u001b[0m\u001b[0;34m\u001b[0m\u001b[0;34m\u001b[0m\u001b[0m\n\u001b[1;32m    397\u001b[0m \u001b[0;34m\u001b[0m\u001b[0m\n\u001b[0;32m--> 398\u001b[0;31m         \u001b[0mnames\u001b[0m\u001b[0;34m,\u001b[0m \u001b[0mtransformers\u001b[0m\u001b[0;34m,\u001b[0m \u001b[0m_\u001b[0m \u001b[0;34m=\u001b[0m \u001b[0mzip\u001b[0m\u001b[0;34m(\u001b[0m\u001b[0;34m*\u001b[0m\u001b[0mself\u001b[0m\u001b[0;34m.\u001b[0m\u001b[0mtransformers\u001b[0m\u001b[0;34m)\u001b[0m\u001b[0;34m\u001b[0m\u001b[0;34m\u001b[0m\u001b[0m\n\u001b[0m\u001b[1;32m    399\u001b[0m \u001b[0;34m\u001b[0m\u001b[0m\n\u001b[1;32m    400\u001b[0m         \u001b[0;31m# validate names\u001b[0m\u001b[0;34m\u001b[0m\u001b[0;34m\u001b[0m\u001b[0m\n",
            "\u001b[0;31mValueError\u001b[0m: not enough values to unpack (expected 3, got 2)"
          ]
        }
      ],
      "source": [
        "# Split Data(Test Size: 0.2)\n",
        "X_train, X_test, y_train, y_test = train_test_split(X, y, test_size=0.2, random_state=42)\n",
        "\n",
        "# Train Model by using Pipeline\n",
        "svm_model.fit(X_train, y_train)\n",
        "decisionTree_model.fit(X_train, y_train)\n",
        "randomForest_model.fit(X_train, y_train)"
      ]
    },
    {
      "cell_type": "code",
      "execution_count": null,
      "metadata": {
        "id": "Y-LwdIwWiSPw"
      },
      "outputs": [],
      "source": [
        "# Predict by Using Test Data\n",
        "y_pred_svm = svm_model.predict(X_test)\n",
        "y_pred_decisionTree = decisionTree_model.predict(X_test)\n",
        "y_pred_randomForest = randomForest_model.predict(X_test)\n",
        "\n",
        "# Accuracy\n",
        "accuracy_svm = svm_model.score(X_test, y_test)\n",
        "accuracy_decisionTree = decisionTree_model.score(X_test, y_test)\n",
        "accuracy_randomForest = randomForest_model.score(X_test, y_test)\n",
        "\n",
        "# Precision\n",
        "# precision\n",
        "\n",
        "print(f\"SVM Accuracy: {accuracy_svm:.2f}\")\n",
        "print(f\"Decision Tree Accuracy: {accuracy_decisionTree:.2f}\")\n",
        "print(f\"Random Forest Accuracy: {accuracy_randomForest:.2f}\")"
      ]
    },
    {
      "cell_type": "markdown",
      "metadata": {
        "id": "N8KGx7-3AcC-"
      },
      "source": [
        "**-> Same results with original company_size(3th) or scaled company_size(4th)**"
      ]
    },
    {
      "cell_type": "markdown",
      "metadata": {
        "id": "QT1V2No7kiSQ"
      },
      "source": [
        "## **5th Trial**"
      ]
    },
    {
      "cell_type": "markdown",
      "metadata": {
        "id": "mRVI_NXZkwPS"
      },
      "source": [
        "Using Grid Search, Find Optimal Hyper ParaMeter for SVM<br>\n",
        "\\- default: Linear<br><br>\n",
        "\n",
        "* Industry(Target): Label Encoding\n",
        "* Speciality, Skill(Features): TF-IDF Vectorizer\n",
        "* Company Size(Feature): StandardScaler\n"
      ]
    },
    {
      "cell_type": "code",
      "execution_count": null,
      "metadata": {
        "id": "DQuWH79fA5KR"
      },
      "outputs": [],
      "source": [
        "from sklearn.model_selection import GridSearchCV"
      ]
    },
    {
      "cell_type": "code",
      "execution_count": null,
      "metadata": {
        "id": "fQm5AC0WkilI"
      },
      "outputs": [],
      "source": [
        "# Encode Industry\n",
        "label_encoder = LabelEncoder()\n",
        "df['industry_encoded'] = label_encoder.fit_transform(df['industry'])\n",
        "\n",
        "# Vectorize 'speciality' && 'skill' (TF-IDF)\n",
        "tfidf_spec = TfidfVectorizer()\n",
        "tfidf_skill = TfidfVectorizer()\n",
        "\n",
        "# Column Transformer to apply transformations to the appropriate columns\n",
        "preprocessor = ColumnTransformer(\n",
        "    transformers=[\n",
        "        ('speciality', tfidf_spec, 'speciality'),\n",
        "        ('skill', tfidf_skill, 'skill'),  # Added the column name 'skill'\n",
        "        ('company_size', 'passthrough', ['company_size'])\n",
        "    ])"
      ]
    },
    {
      "cell_type": "code",
      "execution_count": null,
      "metadata": {
        "colab": {
          "background_save": true,
          "base_uri": "https://localhost:8080/"
        },
        "id": "fH6sw4dcAw37",
        "outputId": "74c2521b-e307-4ce8-97a3-dc71c14b21d8"
      },
      "outputs": [
        {
          "name": "stdout",
          "output_type": "stream",
          "text": [
            "Fitting 5 folds for each of 80 candidates, totalling 400 fits\n",
            "[CV] END classifier__C=1, classifier__gamma=0.1, classifier__kernel=linear; total time= 2.0min\n",
            "[CV] END classifier__C=1, classifier__gamma=0.1, classifier__kernel=linear; total time= 1.9min\n",
            "[CV] END classifier__C=1, classifier__gamma=0.1, classifier__kernel=linear; total time= 1.9min\n",
            "[CV] END classifier__C=1, classifier__gamma=0.1, classifier__kernel=linear; total time= 1.9min\n",
            "[CV] END classifier__C=1, classifier__gamma=0.1, classifier__kernel=linear; total time= 1.9min\n",
            "[CV] END classifier__C=1, classifier__gamma=0.1, classifier__kernel=rbf; total time= 2.1min\n",
            "[CV] END classifier__C=1, classifier__gamma=0.1, classifier__kernel=rbf; total time= 2.1min\n",
            "[CV] END classifier__C=1, classifier__gamma=0.1, classifier__kernel=rbf; total time= 2.1min\n",
            "[CV] END classifier__C=1, classifier__gamma=0.1, classifier__kernel=rbf; total time= 2.1min\n",
            "[CV] END classifier__C=1, classifier__gamma=0.1, classifier__kernel=rbf; total time= 2.1min\n",
            "[CV] END classifier__C=1, classifier__gamma=0.1, classifier__kernel=poly; total time= 2.0min\n",
            "[CV] END classifier__C=1, classifier__gamma=0.1, classifier__kernel=poly; total time= 2.0min\n",
            "[CV] END classifier__C=1, classifier__gamma=0.1, classifier__kernel=poly; total time= 2.0min\n",
            "[CV] END classifier__C=1, classifier__gamma=0.1, classifier__kernel=poly; total time= 2.0min\n",
            "[CV] END classifier__C=1, classifier__gamma=0.1, classifier__kernel=poly; total time= 2.0min\n",
            "[CV] END classifier__C=1, classifier__gamma=0.1, classifier__kernel=sigmoid; total time= 2.1min\n",
            "[CV] END classifier__C=1, classifier__gamma=0.1, classifier__kernel=sigmoid; total time= 2.1min\n",
            "[CV] END classifier__C=1, classifier__gamma=0.1, classifier__kernel=sigmoid; total time= 2.1min\n",
            "[CV] END classifier__C=1, classifier__gamma=0.1, classifier__kernel=sigmoid; total time= 2.1min\n",
            "[CV] END classifier__C=1, classifier__gamma=0.1, classifier__kernel=sigmoid; total time= 2.1min\n",
            "[CV] END classifier__C=1, classifier__gamma=1, classifier__kernel=linear; total time= 1.9min\n",
            "[CV] END classifier__C=1, classifier__gamma=1, classifier__kernel=linear; total time= 1.9min\n",
            "[CV] END classifier__C=1, classifier__gamma=1, classifier__kernel=linear; total time= 1.9min\n",
            "[CV] END classifier__C=1, classifier__gamma=1, classifier__kernel=linear; total time= 1.9min\n",
            "[CV] END classifier__C=1, classifier__gamma=1, classifier__kernel=linear; total time= 1.9min\n",
            "[CV] END classifier__C=1, classifier__gamma=1, classifier__kernel=rbf; total time= 5.3min\n",
            "[CV] END classifier__C=1, classifier__gamma=1, classifier__kernel=rbf; total time= 5.3min\n",
            "[CV] END classifier__C=1, classifier__gamma=1, classifier__kernel=rbf; total time= 5.4min\n",
            "[CV] END classifier__C=1, classifier__gamma=1, classifier__kernel=rbf; total time= 5.3min\n",
            "[CV] END classifier__C=1, classifier__gamma=1, classifier__kernel=rbf; total time= 5.3min\n",
            "[CV] END classifier__C=1, classifier__gamma=1, classifier__kernel=poly; total time= 1.8min\n",
            "[CV] END classifier__C=1, classifier__gamma=1, classifier__kernel=poly; total time= 1.8min\n",
            "[CV] END classifier__C=1, classifier__gamma=1, classifier__kernel=poly; total time= 1.7min\n",
            "[CV] END classifier__C=1, classifier__gamma=1, classifier__kernel=poly; total time= 1.8min\n",
            "[CV] END classifier__C=1, classifier__gamma=1, classifier__kernel=poly; total time= 1.7min\n",
            "[CV] END classifier__C=1, classifier__gamma=1, classifier__kernel=sigmoid; total time= 2.1min\n",
            "[CV] END classifier__C=1, classifier__gamma=1, classifier__kernel=sigmoid; total time= 2.2min\n",
            "[CV] END classifier__C=1, classifier__gamma=1, classifier__kernel=sigmoid; total time= 2.1min\n",
            "[CV] END classifier__C=1, classifier__gamma=1, classifier__kernel=sigmoid; total time= 2.1min\n",
            "[CV] END classifier__C=1, classifier__gamma=1, classifier__kernel=sigmoid; total time= 2.1min\n",
            "[CV] END classifier__C=1, classifier__gamma=10, classifier__kernel=linear; total time= 1.9min\n",
            "[CV] END classifier__C=1, classifier__gamma=10, classifier__kernel=linear; total time= 1.9min\n",
            "[CV] END classifier__C=1, classifier__gamma=10, classifier__kernel=linear; total time= 1.9min\n",
            "[CV] END classifier__C=1, classifier__gamma=10, classifier__kernel=linear; total time= 1.9min\n",
            "[CV] END classifier__C=1, classifier__gamma=10, classifier__kernel=linear; total time= 1.9min\n",
            "[CV] END classifier__C=1, classifier__gamma=10, classifier__kernel=rbf; total time= 6.8min\n",
            "[CV] END classifier__C=1, classifier__gamma=10, classifier__kernel=rbf; total time= 6.7min\n",
            "[CV] END classifier__C=1, classifier__gamma=10, classifier__kernel=rbf; total time= 6.7min\n",
            "[CV] END classifier__C=1, classifier__gamma=10, classifier__kernel=rbf; total time= 6.7min\n",
            "[CV] END classifier__C=1, classifier__gamma=10, classifier__kernel=rbf; total time= 6.6min\n",
            "[CV] END classifier__C=1, classifier__gamma=10, classifier__kernel=poly; total time= 1.8min\n",
            "[CV] END classifier__C=1, classifier__gamma=10, classifier__kernel=poly; total time= 1.8min\n",
            "[CV] END classifier__C=1, classifier__gamma=10, classifier__kernel=poly; total time= 1.8min\n",
            "[CV] END classifier__C=1, classifier__gamma=10, classifier__kernel=poly; total time= 1.8min\n",
            "[CV] END classifier__C=1, classifier__gamma=10, classifier__kernel=poly; total time= 1.8min\n",
            "[CV] END classifier__C=1, classifier__gamma=10, classifier__kernel=sigmoid; total time= 1.9min\n",
            "[CV] END classifier__C=1, classifier__gamma=10, classifier__kernel=sigmoid; total time= 1.9min\n",
            "[CV] END classifier__C=1, classifier__gamma=10, classifier__kernel=sigmoid; total time= 1.9min\n",
            "[CV] END classifier__C=1, classifier__gamma=10, classifier__kernel=sigmoid; total time= 1.9min\n",
            "[CV] END classifier__C=1, classifier__gamma=10, classifier__kernel=sigmoid; total time= 1.9min\n",
            "[CV] END classifier__C=1, classifier__gamma=0.01, classifier__kernel=linear; total time= 1.9min\n",
            "[CV] END classifier__C=1, classifier__gamma=0.01, classifier__kernel=linear; total time= 1.9min\n",
            "[CV] END classifier__C=1, classifier__gamma=0.01, classifier__kernel=linear; total time= 1.9min\n",
            "[CV] END classifier__C=1, classifier__gamma=0.01, classifier__kernel=linear; total time= 1.9min\n",
            "[CV] END classifier__C=1, classifier__gamma=0.01, classifier__kernel=linear; total time= 1.9min\n",
            "[CV] END classifier__C=1, classifier__gamma=0.01, classifier__kernel=rbf; total time= 2.2min\n",
            "[CV] END classifier__C=1, classifier__gamma=0.01, classifier__kernel=rbf; total time= 2.2min\n",
            "[CV] END classifier__C=1, classifier__gamma=0.01, classifier__kernel=rbf; total time= 2.2min\n",
            "[CV] END classifier__C=1, classifier__gamma=0.01, classifier__kernel=rbf; total time= 2.2min\n",
            "[CV] END classifier__C=1, classifier__gamma=0.01, classifier__kernel=rbf; total time= 2.2min\n",
            "[CV] END classifier__C=1, classifier__gamma=0.01, classifier__kernel=poly; total time= 2.1min\n",
            "[CV] END classifier__C=1, classifier__gamma=0.01, classifier__kernel=poly; total time= 2.1min\n",
            "[CV] END classifier__C=1, classifier__gamma=0.01, classifier__kernel=poly; total time= 2.1min\n",
            "[CV] END classifier__C=1, classifier__gamma=0.01, classifier__kernel=poly; total time= 2.1min\n",
            "[CV] END classifier__C=1, classifier__gamma=0.01, classifier__kernel=poly; total time= 2.1min\n",
            "[CV] END classifier__C=1, classifier__gamma=0.01, classifier__kernel=sigmoid; total time= 2.3min\n",
            "[CV] END classifier__C=1, classifier__gamma=0.01, classifier__kernel=sigmoid; total time= 2.3min\n",
            "[CV] END classifier__C=1, classifier__gamma=0.01, classifier__kernel=sigmoid; total time= 2.3min\n",
            "[CV] END classifier__C=1, classifier__gamma=0.01, classifier__kernel=sigmoid; total time= 2.3min\n",
            "[CV] END classifier__C=1, classifier__gamma=0.01, classifier__kernel=sigmoid; total time= 2.3min\n",
            "[CV] END classifier__C=1, classifier__gamma=0.001, classifier__kernel=linear; total time= 1.9min\n",
            "[CV] END classifier__C=1, classifier__gamma=0.001, classifier__kernel=linear; total time= 1.9min\n",
            "[CV] END classifier__C=1, classifier__gamma=0.001, classifier__kernel=linear; total time= 1.9min\n",
            "[CV] END classifier__C=1, classifier__gamma=0.001, classifier__kernel=linear; total time= 1.9min\n",
            "[CV] END classifier__C=1, classifier__gamma=0.001, classifier__kernel=linear; total time= 1.9min\n",
            "[CV] END classifier__C=1, classifier__gamma=0.001, classifier__kernel=rbf; total time= 2.3min\n",
            "[CV] END classifier__C=1, classifier__gamma=0.001, classifier__kernel=rbf; total time= 2.2min\n",
            "[CV] END classifier__C=1, classifier__gamma=0.001, classifier__kernel=rbf; total time= 2.2min\n",
            "[CV] END classifier__C=1, classifier__gamma=0.001, classifier__kernel=rbf; total time= 2.3min\n",
            "[CV] END classifier__C=1, classifier__gamma=0.001, classifier__kernel=rbf; total time= 2.3min\n",
            "[CV] END classifier__C=1, classifier__gamma=0.001, classifier__kernel=poly; total time= 1.9min\n",
            "[CV] END classifier__C=1, classifier__gamma=0.001, classifier__kernel=poly; total time= 1.9min\n",
            "[CV] END classifier__C=1, classifier__gamma=0.001, classifier__kernel=poly; total time= 1.9min\n",
            "[CV] END classifier__C=1, classifier__gamma=0.001, classifier__kernel=poly; total time= 1.9min\n",
            "[CV] END classifier__C=1, classifier__gamma=0.001, classifier__kernel=poly; total time= 1.9min\n",
            "[CV] END classifier__C=1, classifier__gamma=0.001, classifier__kernel=sigmoid; total time= 2.2min\n",
            "[CV] END classifier__C=1, classifier__gamma=0.001, classifier__kernel=sigmoid; total time= 2.2min\n",
            "[CV] END classifier__C=1, classifier__gamma=0.001, classifier__kernel=sigmoid; total time= 2.2min\n",
            "[CV] END classifier__C=1, classifier__gamma=0.001, classifier__kernel=sigmoid; total time= 2.2min\n",
            "[CV] END classifier__C=1, classifier__gamma=0.001, classifier__kernel=sigmoid; total time= 2.2min\n",
            "[CV] END classifier__C=0.1, classifier__gamma=0.1, classifier__kernel=linear; total time= 2.0min\n",
            "[CV] END classifier__C=0.1, classifier__gamma=0.1, classifier__kernel=linear; total time= 2.0min\n",
            "[CV] END classifier__C=0.1, classifier__gamma=0.1, classifier__kernel=linear; total time= 2.0min\n",
            "[CV] END classifier__C=0.1, classifier__gamma=0.1, classifier__kernel=linear; total time= 2.0min\n",
            "[CV] END classifier__C=0.1, classifier__gamma=0.1, classifier__kernel=linear; total time= 2.0min\n",
            "[CV] END classifier__C=0.1, classifier__gamma=0.1, classifier__kernel=rbf; total time= 2.4min\n",
            "[CV] END classifier__C=0.1, classifier__gamma=0.1, classifier__kernel=rbf; total time= 2.3min\n",
            "[CV] END classifier__C=0.1, classifier__gamma=0.1, classifier__kernel=rbf; total time= 2.4min\n",
            "[CV] END classifier__C=0.1, classifier__gamma=0.1, classifier__kernel=rbf; total time= 2.3min\n",
            "[CV] END classifier__C=0.1, classifier__gamma=0.1, classifier__kernel=rbf; total time= 2.4min\n",
            "[CV] END classifier__C=0.1, classifier__gamma=0.1, classifier__kernel=poly; total time= 2.0min\n",
            "[CV] END classifier__C=0.1, classifier__gamma=0.1, classifier__kernel=poly; total time= 2.0min\n",
            "[CV] END classifier__C=0.1, classifier__gamma=0.1, classifier__kernel=poly; total time= 2.0min\n",
            "[CV] END classifier__C=0.1, classifier__gamma=0.1, classifier__kernel=poly; total time= 2.1min\n",
            "[CV] END classifier__C=0.1, classifier__gamma=0.1, classifier__kernel=poly; total time= 2.0min\n",
            "[CV] END classifier__C=0.1, classifier__gamma=0.1, classifier__kernel=sigmoid; total time= 2.2min\n",
            "[CV] END classifier__C=0.1, classifier__gamma=0.1, classifier__kernel=sigmoid; total time= 2.2min\n",
            "[CV] END classifier__C=0.1, classifier__gamma=0.1, classifier__kernel=sigmoid; total time= 2.2min\n",
            "[CV] END classifier__C=0.1, classifier__gamma=0.1, classifier__kernel=sigmoid; total time= 2.2min\n",
            "[CV] END classifier__C=0.1, classifier__gamma=0.1, classifier__kernel=sigmoid; total time= 2.2min\n",
            "[CV] END classifier__C=0.1, classifier__gamma=1, classifier__kernel=linear; total time= 2.0min\n",
            "[CV] END classifier__C=0.1, classifier__gamma=1, classifier__kernel=linear; total time= 2.0min\n",
            "[CV] END classifier__C=0.1, classifier__gamma=1, classifier__kernel=linear; total time= 2.0min\n",
            "[CV] END classifier__C=0.1, classifier__gamma=1, classifier__kernel=linear; total time= 2.0min\n",
            "[CV] END classifier__C=0.1, classifier__gamma=1, classifier__kernel=linear; total time= 2.0min\n",
            "[CV] END classifier__C=0.1, classifier__gamma=1, classifier__kernel=rbf; total time= 4.6min\n",
            "[CV] END classifier__C=0.1, classifier__gamma=1, classifier__kernel=rbf; total time= 4.5min\n",
            "[CV] END classifier__C=0.1, classifier__gamma=1, classifier__kernel=rbf; total time= 4.6min\n",
            "[CV] END classifier__C=0.1, classifier__gamma=1, classifier__kernel=rbf; total time= 4.5min\n",
            "[CV] END classifier__C=0.1, classifier__gamma=1, classifier__kernel=rbf; total time= 4.5min\n",
            "[CV] END classifier__C=0.1, classifier__gamma=1, classifier__kernel=poly; total time= 1.8min\n",
            "[CV] END classifier__C=0.1, classifier__gamma=1, classifier__kernel=poly; total time= 1.7min\n",
            "[CV] END classifier__C=0.1, classifier__gamma=1, classifier__kernel=poly; total time= 1.7min\n",
            "[CV] END classifier__C=0.1, classifier__gamma=1, classifier__kernel=poly; total time= 1.7min\n",
            "[CV] END classifier__C=0.1, classifier__gamma=1, classifier__kernel=poly; total time= 1.7min\n",
            "[CV] END classifier__C=0.1, classifier__gamma=1, classifier__kernel=sigmoid; total time= 2.1min\n",
            "[CV] END classifier__C=0.1, classifier__gamma=1, classifier__kernel=sigmoid; total time= 2.1min\n",
            "[CV] END classifier__C=0.1, classifier__gamma=1, classifier__kernel=sigmoid; total time= 2.0min\n",
            "[CV] END classifier__C=0.1, classifier__gamma=1, classifier__kernel=sigmoid; total time= 2.0min\n",
            "[CV] END classifier__C=0.1, classifier__gamma=1, classifier__kernel=sigmoid; total time= 2.1min\n",
            "[CV] END classifier__C=0.1, classifier__gamma=10, classifier__kernel=linear; total time= 2.0min\n",
            "[CV] END classifier__C=0.1, classifier__gamma=10, classifier__kernel=linear; total time= 2.0min\n",
            "[CV] END classifier__C=0.1, classifier__gamma=10, classifier__kernel=linear; total time= 2.0min\n",
            "[CV] END classifier__C=0.1, classifier__gamma=10, classifier__kernel=linear; total time= 2.0min\n",
            "[CV] END classifier__C=0.1, classifier__gamma=10, classifier__kernel=linear; total time= 2.0min\n",
            "[CV] END classifier__C=0.1, classifier__gamma=10, classifier__kernel=rbf; total time= 6.0min\n",
            "[CV] END classifier__C=0.1, classifier__gamma=10, classifier__kernel=rbf; total time= 5.9min\n",
            "[CV] END classifier__C=0.1, classifier__gamma=10, classifier__kernel=rbf; total time= 5.9min\n",
            "[CV] END classifier__C=0.1, classifier__gamma=10, classifier__kernel=rbf; total time= 6.0min\n",
            "[CV] END classifier__C=0.1, classifier__gamma=10, classifier__kernel=rbf; total time= 5.9min\n",
            "[CV] END classifier__C=0.1, classifier__gamma=10, classifier__kernel=poly; total time= 1.8min\n",
            "[CV] END classifier__C=0.1, classifier__gamma=10, classifier__kernel=poly; total time= 1.8min\n",
            "[CV] END classifier__C=0.1, classifier__gamma=10, classifier__kernel=poly; total time= 1.7min\n",
            "[CV] END classifier__C=0.1, classifier__gamma=10, classifier__kernel=poly; total time= 1.7min\n",
            "[CV] END classifier__C=0.1, classifier__gamma=10, classifier__kernel=poly; total time= 1.7min\n",
            "[CV] END classifier__C=0.1, classifier__gamma=10, classifier__kernel=sigmoid; total time= 1.9min\n",
            "[CV] END classifier__C=0.1, classifier__gamma=10, classifier__kernel=sigmoid; total time= 1.8min\n",
            "[CV] END classifier__C=0.1, classifier__gamma=10, classifier__kernel=sigmoid; total time= 1.9min\n",
            "[CV] END classifier__C=0.1, classifier__gamma=10, classifier__kernel=sigmoid; total time= 1.8min\n",
            "[CV] END classifier__C=0.1, classifier__gamma=10, classifier__kernel=sigmoid; total time= 1.8min\n",
            "[CV] END classifier__C=0.1, classifier__gamma=0.01, classifier__kernel=linear; total time= 2.0min\n",
            "[CV] END classifier__C=0.1, classifier__gamma=0.01, classifier__kernel=linear; total time= 2.0min\n",
            "[CV] END classifier__C=0.1, classifier__gamma=0.01, classifier__kernel=linear; total time= 2.0min\n",
            "[CV] END classifier__C=0.1, classifier__gamma=0.01, classifier__kernel=linear; total time= 2.0min\n",
            "[CV] END classifier__C=0.1, classifier__gamma=0.01, classifier__kernel=linear; total time= 2.0min\n",
            "[CV] END classifier__C=0.1, classifier__gamma=0.01, classifier__kernel=rbf; total time= 2.2min\n",
            "[CV] END classifier__C=0.1, classifier__gamma=0.01, classifier__kernel=rbf; total time= 2.2min\n",
            "[CV] END classifier__C=0.1, classifier__gamma=0.01, classifier__kernel=rbf; total time= 2.2min\n",
            "[CV] END classifier__C=0.1, classifier__gamma=0.01, classifier__kernel=rbf; total time= 2.2min\n",
            "[CV] END classifier__C=0.1, classifier__gamma=0.01, classifier__kernel=rbf; total time= 2.2min\n",
            "[CV] END classifier__C=0.1, classifier__gamma=0.01, classifier__kernel=poly; total time= 2.0min\n",
            "[CV] END classifier__C=0.1, classifier__gamma=0.01, classifier__kernel=poly; total time= 2.0min\n",
            "[CV] END classifier__C=0.1, classifier__gamma=0.01, classifier__kernel=poly; total time= 2.0min\n",
            "[CV] END classifier__C=0.1, classifier__gamma=0.01, classifier__kernel=poly; total time= 2.0min\n",
            "[CV] END classifier__C=0.1, classifier__gamma=0.01, classifier__kernel=poly; total time= 2.0min\n",
            "[CV] END classifier__C=0.1, classifier__gamma=0.01, classifier__kernel=sigmoid; total time= 2.2min\n",
            "[CV] END classifier__C=0.1, classifier__gamma=0.01, classifier__kernel=sigmoid; total time= 2.2min\n",
            "[CV] END classifier__C=0.1, classifier__gamma=0.01, classifier__kernel=sigmoid; total time= 2.2min\n",
            "[CV] END classifier__C=0.1, classifier__gamma=0.01, classifier__kernel=sigmoid; total time= 2.2min\n",
            "[CV] END classifier__C=0.1, classifier__gamma=0.01, classifier__kernel=sigmoid; total time= 2.2min\n",
            "[CV] END classifier__C=0.1, classifier__gamma=0.001, classifier__kernel=linear; total time= 2.0min\n",
            "[CV] END classifier__C=0.1, classifier__gamma=0.001, classifier__kernel=linear; total time= 2.0min\n",
            "[CV] END classifier__C=0.1, classifier__gamma=0.001, classifier__kernel=linear; total time= 2.0min\n",
            "[CV] END classifier__C=0.1, classifier__gamma=0.001, classifier__kernel=linear; total time= 2.0min\n",
            "[CV] END classifier__C=0.1, classifier__gamma=0.001, classifier__kernel=linear; total time= 2.0min\n",
            "[CV] END classifier__C=0.1, classifier__gamma=0.001, classifier__kernel=rbf; total time= 2.1min\n",
            "[CV] END classifier__C=0.1, classifier__gamma=0.001, classifier__kernel=rbf; total time= 2.0min\n",
            "[CV] END classifier__C=0.1, classifier__gamma=0.001, classifier__kernel=rbf; total time= 2.1min\n",
            "[CV] END classifier__C=0.1, classifier__gamma=0.001, classifier__kernel=rbf; total time= 2.1min\n",
            "[CV] END classifier__C=0.1, classifier__gamma=0.001, classifier__kernel=rbf; total time= 2.1min\n",
            "[CV] END classifier__C=0.1, classifier__gamma=0.001, classifier__kernel=poly; total time= 1.9min\n",
            "[CV] END classifier__C=0.1, classifier__gamma=0.001, classifier__kernel=poly; total time= 1.9min\n",
            "[CV] END classifier__C=0.1, classifier__gamma=0.001, classifier__kernel=poly; total time= 1.9min\n",
            "[CV] END classifier__C=0.1, classifier__gamma=0.001, classifier__kernel=poly; total time= 1.9min\n",
            "[CV] END classifier__C=0.1, classifier__gamma=0.001, classifier__kernel=poly; total time= 1.9min\n",
            "[CV] END classifier__C=0.1, classifier__gamma=0.001, classifier__kernel=sigmoid; total time= 2.0min\n",
            "[CV] END classifier__C=0.1, classifier__gamma=0.001, classifier__kernel=sigmoid; total time= 2.0min\n",
            "[CV] END classifier__C=0.1, classifier__gamma=0.001, classifier__kernel=sigmoid; total time= 2.0min\n",
            "[CV] END classifier__C=0.1, classifier__gamma=0.001, classifier__kernel=sigmoid; total time= 2.0min\n",
            "[CV] END classifier__C=0.1, classifier__gamma=0.001, classifier__kernel=sigmoid; total time= 2.0min\n",
            "[CV] END classifier__C=0.01, classifier__gamma=0.1, classifier__kernel=linear; total time= 2.2min\n",
            "[CV] END classifier__C=0.01, classifier__gamma=0.1, classifier__kernel=linear; total time= 2.2min\n",
            "[CV] END classifier__C=0.01, classifier__gamma=0.1, classifier__kernel=linear; total time= 2.2min\n",
            "[CV] END classifier__C=0.01, classifier__gamma=0.1, classifier__kernel=linear; total time= 2.2min\n",
            "[CV] END classifier__C=0.01, classifier__gamma=0.1, classifier__kernel=linear; total time= 2.2min\n",
            "[CV] END classifier__C=0.01, classifier__gamma=0.1, classifier__kernel=rbf; total time= 2.2min\n",
            "[CV] END classifier__C=0.01, classifier__gamma=0.1, classifier__kernel=rbf; total time= 2.2min\n",
            "[CV] END classifier__C=0.01, classifier__gamma=0.1, classifier__kernel=rbf; total time= 2.2min\n",
            "[CV] END classifier__C=0.01, classifier__gamma=0.1, classifier__kernel=rbf; total time= 2.3min\n",
            "[CV] END classifier__C=0.01, classifier__gamma=0.1, classifier__kernel=rbf; total time= 2.3min\n",
            "[CV] END classifier__C=0.01, classifier__gamma=0.1, classifier__kernel=poly; total time= 2.1min\n",
            "[CV] END classifier__C=0.01, classifier__gamma=0.1, classifier__kernel=poly; total time= 2.1min\n",
            "[CV] END classifier__C=0.01, classifier__gamma=0.1, classifier__kernel=poly; total time= 2.1min\n",
            "[CV] END classifier__C=0.01, classifier__gamma=0.1, classifier__kernel=poly; total time= 2.1min\n",
            "[CV] END classifier__C=0.01, classifier__gamma=0.1, classifier__kernel=poly; total time= 2.1min\n",
            "[CV] END classifier__C=0.01, classifier__gamma=0.1, classifier__kernel=sigmoid; total time= 2.2min\n",
            "[CV] END classifier__C=0.01, classifier__gamma=0.1, classifier__kernel=sigmoid; total time= 2.2min\n",
            "[CV] END classifier__C=0.01, classifier__gamma=0.1, classifier__kernel=sigmoid; total time= 2.2min\n",
            "[CV] END classifier__C=0.01, classifier__gamma=0.1, classifier__kernel=sigmoid; total time= 2.2min\n",
            "[CV] END classifier__C=0.01, classifier__gamma=0.1, classifier__kernel=sigmoid; total time= 2.2min\n",
            "[CV] END classifier__C=0.01, classifier__gamma=1, classifier__kernel=linear; total time= 2.2min\n",
            "[CV] END classifier__C=0.01, classifier__gamma=1, classifier__kernel=linear; total time= 2.2min\n",
            "[CV] END classifier__C=0.01, classifier__gamma=1, classifier__kernel=linear; total time= 2.2min\n",
            "[CV] END classifier__C=0.01, classifier__gamma=1, classifier__kernel=linear; total time= 2.2min\n",
            "[CV] END classifier__C=0.01, classifier__gamma=1, classifier__kernel=linear; total time= 2.2min\n",
            "[CV] END classifier__C=0.01, classifier__gamma=1, classifier__kernel=rbf; total time= 3.3min\n",
            "[CV] END classifier__C=0.01, classifier__gamma=1, classifier__kernel=rbf; total time= 3.2min\n",
            "[CV] END classifier__C=0.01, classifier__gamma=1, classifier__kernel=rbf; total time= 3.2min\n",
            "[CV] END classifier__C=0.01, classifier__gamma=1, classifier__kernel=rbf; total time= 3.3min\n",
            "[CV] END classifier__C=0.01, classifier__gamma=1, classifier__kernel=rbf; total time= 3.2min\n",
            "[CV] END classifier__C=0.01, classifier__gamma=1, classifier__kernel=poly; total time= 1.8min\n",
            "[CV] END classifier__C=0.01, classifier__gamma=1, classifier__kernel=poly; total time= 1.8min\n",
            "[CV] END classifier__C=0.01, classifier__gamma=1, classifier__kernel=poly; total time= 1.9min\n",
            "[CV] END classifier__C=0.01, classifier__gamma=1, classifier__kernel=poly; total time= 1.8min\n",
            "[CV] END classifier__C=0.01, classifier__gamma=1, classifier__kernel=poly; total time= 1.8min\n",
            "[CV] END classifier__C=0.01, classifier__gamma=1, classifier__kernel=sigmoid; total time= 2.1min\n",
            "[CV] END classifier__C=0.01, classifier__gamma=1, classifier__kernel=sigmoid; total time= 2.0min\n",
            "[CV] END classifier__C=0.01, classifier__gamma=1, classifier__kernel=sigmoid; total time= 2.0min\n",
            "[CV] END classifier__C=0.01, classifier__gamma=1, classifier__kernel=sigmoid; total time= 2.0min\n",
            "[CV] END classifier__C=0.01, classifier__gamma=1, classifier__kernel=sigmoid; total time= 2.1min\n",
            "[CV] END classifier__C=0.01, classifier__gamma=10, classifier__kernel=linear; total time= 2.2min\n",
            "[CV] END classifier__C=0.01, classifier__gamma=10, classifier__kernel=linear; total time= 2.2min\n"
          ]
        }
      ],
      "source": [
        "# Prepare the features and target variable\n",
        "X = df[['speciality', 'skill', 'company_size']]\n",
        "y = df['industry_encoded']\n",
        "\n",
        "# Create a pipeline that includes preprocessing and the SVC classifier\n",
        "pipeline = Pipeline(steps=[\n",
        "    ('preprocessor', preprocessor),\n",
        "    ('classifier', SVC())\n",
        "])\n",
        "\n",
        "# Find the Optimal Parameter with Grid Search\n",
        "param_grid = {\n",
        "    'classifier__kernel': ['linear', 'rbf', 'poly', 'sigmoid'],\n",
        "    'classifier__C': [1, 0.1, 0.01, 0.001],\n",
        "    'classifier__gamma': [0.1, 1, 10, 0.01, 0.001]\n",
        "}\n",
        "\n",
        "# Apply GridSearchCV to the pipeline\n",
        "grid = GridSearchCV(pipeline, param_grid, refit=True, verbose=2, cv=5)\n",
        "\n",
        "# Split data into Training and Test sets\n",
        "X_train, X_test, y_train, y_test = train_test_split(X, y, test_size=0.2, random_state=42)\n",
        "\n",
        "# Fit the grid search\n",
        "grid.fit(X_train, y_train)\n",
        "\n",
        "# Print the best parameters\n",
        "print(grid.best_params_)\n",
        "\n",
        "# Predict on the test set\n",
        "y_pred = grid.predict(X_test)\n",
        "\n",
        "# Evaluate the model\n",
        "accuracy = accuracy_score(y_test, y_pred)\n",
        "print(f\"SVM Accuracy with Grid Search: {accuracy:.2f}\")"
      ]
    },
    {
      "cell_type": "markdown",
      "metadata": {
        "id": "-Unp-nzO5wFH"
      },
      "source": [
        "**SMOTE with tunned SVM**"
      ]
    },
    {
      "cell_type": "code",
      "execution_count": null,
      "metadata": {
        "colab": {
          "base_uri": "https://localhost:8080/"
        },
        "id": "3pV5zadzFVcS",
        "outputId": "df088ead-0797-41c7-8f15-fe8850e71947"
      },
      "outputs": [
        {
          "name": "stdout",
          "output_type": "stream",
          "text": [
            "Collecting imblearn\n",
            "  Downloading imblearn-0.0-py2.py3-none-any.whl (1.9 kB)\n",
            "Collecting imbalanced-learn (from imblearn)\n",
            "  Downloading imbalanced_learn-0.12.3-py3-none-any.whl (258 kB)\n",
            "\u001b[2K     \u001b[90m━━━━━━━━━━━━━━━━━━━━━━━━━━━━━━━━━━━━━━━━\u001b[0m \u001b[32m258.3/258.3 kB\u001b[0m \u001b[31m2.3 MB/s\u001b[0m eta \u001b[36m0:00:00\u001b[0m\n",
            "\u001b[?25hRequirement already satisfied: numpy>=1.17.3 in /usr/local/lib/python3.10/dist-packages (from imbalanced-learn->imblearn) (1.25.2)\n",
            "Requirement already satisfied: scipy>=1.5.0 in /usr/local/lib/python3.10/dist-packages (from imbalanced-learn->imblearn) (1.11.4)\n",
            "Requirement already satisfied: scikit-learn>=1.0.2 in /usr/local/lib/python3.10/dist-packages (from imbalanced-learn->imblearn) (1.2.2)\n",
            "Requirement already satisfied: joblib>=1.1.1 in /usr/local/lib/python3.10/dist-packages (from imbalanced-learn->imblearn) (1.4.2)\n",
            "Requirement already satisfied: threadpoolctl>=2.0.0 in /usr/local/lib/python3.10/dist-packages (from imbalanced-learn->imblearn) (3.5.0)\n",
            "Installing collected packages: imbalanced-learn, imblearn\n",
            "Successfully installed imbalanced-learn-0.12.3 imblearn-0.0\n"
          ]
        }
      ],
      "source": [
        "!pip install imblearn"
      ]
    },
    {
      "cell_type": "code",
      "execution_count": null,
      "metadata": {
        "colab": {
          "base_uri": "https://localhost:8080/"
        },
        "id": "nhhhR-nUCmKQ",
        "outputId": "ef6e399c-45b8-4f4f-edf0-822e49dee87b"
      },
      "outputs": [
        {
          "name": "stdout",
          "output_type": "stream",
          "text": [
            "SVM Accuracy: 0.83\n"
          ]
        }
      ],
      "source": [
        "from sklearn.svm import SVC\n",
        "from imblearn.over_sampling import SMOTE\n",
        "from imblearn.pipeline import Pipeline as ImbPipeline\n",
        "from sklearn.preprocessing import StandardScaler\n",
        "from sklearn.compose import ColumnTransformer\n",
        "from sklearn.feature_extraction.text import TfidfVectorizer\n",
        "from sklearn.model_selection import train_test_split\n",
        "from sklearn.preprocessing import LabelEncoder\n",
        "from imblearn.over_sampling import RandomOverSampler\n",
        "\n",
        "# Encode Industry\n",
        "label_encoder = LabelEncoder()\n",
        "df['industry_encoded'] = label_encoder.fit_transform(df['industry'])\n",
        "\n",
        "# Vectorize 'speciality' && 'skill' (TF-IDF)\n",
        "tfidf_spec = TfidfVectorizer()\n",
        "tfidf_skill = TfidfVectorizer()\n",
        "\n",
        "# Column Transformer to apply transformations to the appropriate columns\n",
        "preprocessor = ColumnTransformer(\n",
        "    transformers=[\n",
        "        ('speciality', tfidf_spec, 'speciality'),\n",
        "        ('skill', tfidf_skill, 'skill'),\n",
        "        ('company_size', 'passthrough', ['company_size'])\n",
        "    ])\n",
        "\n",
        "# Prepare the features and target variable\n",
        "X = df[['speciality', 'skill', 'company_size']]\n",
        "y = df['industry_encoded']\n",
        "\n",
        "# Split Data (Test Size: 0.2)\n",
        "X_train, X_test, y_train, y_test = train_test_split(X, y, test_size=0.2, random_state=42)\n",
        "\n",
        "# Define SVM model with the specified parameters\n",
        "svm_model_SMOTE = ImbPipeline(\n",
        "    steps=[('preprocessor', preprocessor),\n",
        "           ('smote', RandomOverSampler(random_state=42)),  # Replace SMOTE with RandomOverSampler\n",
        "           ('scaler', StandardScaler(with_mean=False)),\n",
        "           ('classifier', SVC(kernel='poly', C=0.1, gamma=1))])\n",
        "\n",
        "# Train the model using the training data\n",
        "svm_model_SMOTE.fit(X_train, y_train)\n",
        "\n",
        "# Predict using the test data\n",
        "y_pred_svm = svm_model_SMOTE.predict(X_test)\n",
        "\n",
        "# Evaluate the model\n",
        "accuracy_svm = svm_model_SMOTE.score(X_test, y_test)\n",
        "\n",
        "print(f\"SVM Accuracy: {accuracy_svm:.2f}\")"
      ]
    },
    {
      "cell_type": "markdown",
      "metadata": {
        "id": "gbdjA2jb53F8"
      },
      "source": [
        "SVM Accuracy: 0.83\n"
      ]
    },
    {
      "cell_type": "markdown",
      "metadata": {
        "id": "t6wRjVe48ELS"
      },
      "source": [
        "## **Final Performance**"
      ]
    },
    {
      "cell_type": "code",
      "execution_count": null,
      "metadata": {
        "colab": {
          "base_uri": "https://localhost:8080/"
        },
        "id": "ohcwyktbizYf",
        "outputId": "35796249-6639-485e-bb0e-cbf552950ee1"
      },
      "outputs": [
        {
          "name": "stdout",
          "output_type": "stream",
          "text": [
            "Requirement already satisfied: imblearn in /usr/local/lib/python3.10/dist-packages (0.0)\n",
            "Requirement already satisfied: imbalanced-learn in /usr/local/lib/python3.10/dist-packages (from imblearn) (0.12.3)\n",
            "Requirement already satisfied: numpy>=1.17.3 in /usr/local/lib/python3.10/dist-packages (from imbalanced-learn->imblearn) (1.25.2)\n",
            "Requirement already satisfied: scipy>=1.5.0 in /usr/local/lib/python3.10/dist-packages (from imbalanced-learn->imblearn) (1.11.4)\n",
            "Requirement already satisfied: scikit-learn>=1.0.2 in /usr/local/lib/python3.10/dist-packages (from imbalanced-learn->imblearn) (1.2.2)\n",
            "Requirement already satisfied: joblib>=1.1.1 in /usr/local/lib/python3.10/dist-packages (from imbalanced-learn->imblearn) (1.4.2)\n",
            "Requirement already satisfied: threadpoolctl>=2.0.0 in /usr/local/lib/python3.10/dist-packages (from imbalanced-learn->imblearn) (3.5.0)\n"
          ]
        }
      ],
      "source": [
        "!pip install imblearn"
      ]
    },
    {
      "cell_type": "code",
      "execution_count": null,
      "metadata": {
        "id": "Xf6KpK1p8LwW"
      },
      "outputs": [],
      "source": [
        "# Encode Industry\n",
        "label_encoder = LabelEncoder()\n",
        "df['industry_encoded'] = label_encoder.fit_transform(df['industry'])\n",
        "\n",
        "# Vectorize 'speciality' && 'skill' (TF-IDF)\n",
        "tfidf_spec = TfidfVectorizer()\n",
        "tfidf_skill = TfidfVectorizer()\n",
        "\n",
        "# Column Transformer to apply transformations to the appropriate columns\n",
        "preprocessor = ColumnTransformer(\n",
        "    transformers=[\n",
        "        ('speciality', tfidf_spec, 'speciality'),\n",
        "        ('skill', tfidf_skill, 'skill'),  # Added the column name 'skill'\n",
        "        ('company_size', 'passthrough', ['company_size'])\n",
        "    ])"
      ]
    },
    {
      "cell_type": "code",
      "execution_count": null,
      "metadata": {
        "id": "pKRuWkZcYmoa"
      },
      "outputs": [],
      "source": [
        "X = df[['speciality', 'skill', 'company_size']]\n",
        "y = df['industry_encoded']\n",
        "\n",
        "# Split Data (Test Size: 0.2)\n",
        "X_train, X_test, y_train, y_test = train_test_split(X, y, test_size=0.2, random_state=42)\n"
      ]
    },
    {
      "cell_type": "markdown",
      "metadata": {
        "id": "jNy4BNbSYbyL"
      },
      "source": [
        "**SVM**"
      ]
    },
    {
      "cell_type": "code",
      "execution_count": null,
      "metadata": {
        "colab": {
          "base_uri": "https://localhost:8080/"
        },
        "id": "9StBzaGmYerk",
        "outputId": "584f036b-d730-4cbb-db78-88b9b07707c5"
      },
      "outputs": [
        {
          "name": "stdout",
          "output_type": "stream",
          "text": [
            "SVM Accuracy: 0.83\n"
          ]
        }
      ],
      "source": [
        "from sklearn.svm import SVC\n",
        "from imblearn.over_sampling import SMOTE\n",
        "from imblearn.pipeline import Pipeline as ImbPipeline\n",
        "from sklearn.preprocessing import StandardScaler\n",
        "from sklearn.compose import ColumnTransformer\n",
        "from sklearn.feature_extraction.text import TfidfVectorizer\n",
        "from sklearn.model_selection import train_test_split\n",
        "from sklearn.preprocessing import LabelEncoder\n",
        "from imblearn.over_sampling import RandomOverSampler\n",
        "\n",
        "# Define SVM model with the specified parameters\n",
        "svm_model_final = ImbPipeline(\n",
        "    steps=[('preprocessor', preprocessor),\n",
        "           ('smote', RandomOverSampler(random_state=42)),  # Replace SMOTE with RandomOverSampler\n",
        "           ('scaler', StandardScaler(with_mean=False)),\n",
        "           ('classifier', SVC(kernel='poly', C=0.1, gamma=1))])\n",
        "\n",
        "# Train the model using the training data\n",
        "svm_model_final.fit(X_train, y_train)\n",
        "\n",
        "# Predict using the test data\n",
        "y_pred_svm = svm_model_final.predict(X_test)\n",
        "\n",
        "# Evaluate the model\n",
        "accuracy_svm_final = svm_model_final.score(X_test, y_test)\n",
        "\n",
        "print(f\"SVM Accuracy: {accuracy_svm_final:.2f}\")"
      ]
    },
    {
      "cell_type": "markdown",
      "metadata": {
        "id": "Ak0ZlFB2Yu3D"
      },
      "source": [
        "**Decision Tree**"
      ]
    },
    {
      "cell_type": "code",
      "execution_count": null,
      "metadata": {
        "colab": {
          "base_uri": "https://localhost:8080/"
        },
        "id": "DhR6lPtBYbJ_",
        "outputId": "8414d54a-6c1d-4f26-d5c6-8d85045ee51f"
      },
      "outputs": [
        {
          "name": "stdout",
          "output_type": "stream",
          "text": [
            "Decision Tree Accuracy: 0.83\n"
          ]
        }
      ],
      "source": [
        "# Define Decision Tree model\n",
        "decisionTree_model_final = Pipeline(\n",
        "    steps=[('preprocessor', preprocessor),\n",
        "    ('classifier', DecisionTreeClassifier())])\n",
        "\n",
        "# Train the model using the training data\n",
        "decisionTree_model_final.fit(X_train, y_train)\n",
        "\n",
        "# Predict using the test data\n",
        "y_pred_decisionTree = decisionTree_model_final.predict(X_test)\n",
        "\n",
        "# Evaluate the model\n",
        "accuracy_decisionTree_final = decisionTree_model_final.score(X_test, y_test)\n",
        "\n",
        "print(f\"Decision Tree Accuracy: {accuracy_decisionTree_final:.2f}\")"
      ]
    },
    {
      "cell_type": "markdown",
      "metadata": {
        "id": "1vucg4_KaUIB"
      },
      "source": [
        "**Random Forest**"
      ]
    },
    {
      "cell_type": "code",
      "execution_count": null,
      "metadata": {
        "colab": {
          "base_uri": "https://localhost:8080/"
        },
        "id": "Vo5Hzee8aTy6",
        "outputId": "80e6ce45-edf4-4046-c62e-4a52ad7fc27b"
      },
      "outputs": [
        {
          "name": "stdout",
          "output_type": "stream",
          "text": [
            "Random Forest Accuracy: 0.87\n"
          ]
        }
      ],
      "source": [
        "# Define Random Forest model\n",
        "randomForest_model_final = Pipeline(\n",
        "    steps=[('preprocessor', preprocessor),\n",
        "    ('classifier', RandomForestClassifier())])\n",
        "\n",
        "# Train the model using the training data\n",
        "randomForest_model_final.fit(X_train, y_train)\n",
        "\n",
        "# Predict using the test data\n",
        "y_pred_decisionTree = randomForest_model_final.predict(X_test)\n",
        "\n",
        "# Evaluate the model\n",
        "accuracy_randomForest_final = randomForest_model_final.score(X_test, y_test)\n",
        "\n",
        "print(f\"Random Forest Accuracy: {accuracy_randomForest_final:.2f}\")"
      ]
    },
    {
      "cell_type": "code",
      "execution_count": null,
      "metadata": {
        "colab": {
          "background_save": true
        },
        "id": "e22aFmDHijOg",
        "outputId": "e01f043d-d505-40fb-90b9-dc8c1b43fdc4"
      },
      "outputs": [
        {
          "name": "stdout",
          "output_type": "stream",
          "text": [
            "SVM Accuracy: 0.8386 ± 0.0048\n",
            "Decision Tree Accuracy: 0.8325 ± 0.0064\n",
            "Random Forest Accuracy: 0.8688 ± 0.0053\n"
          ]
        }
      ],
      "source": [
        "# K-Fold Cross-Validation\n",
        "kf = KFold(n_splits=5, shuffle=True, random_state=42)\n",
        "svm_scores = cross_val_score(svm_model_final, X, y, cv=kf)\n",
        "dt_scores = cross_val_score(decisionTree_model_final, X, y, cv=kf)\n",
        "rf_scores = cross_val_score(randomForest_model_final, X, y, cv=kf)\n",
        "\n",
        "# Print results\n",
        "print(f\"SVM Accuracy: {np.mean(svm_scores):.4f} ± {np.std(svm_scores):.4f}\")\n",
        "print(f\"Decision Tree Accuracy: {np.mean(dt_scores):.4f} ± {np.std(dt_scores):.4f}\")\n",
        "print(f\"Random Forest Accuracy: {np.mean(rf_scores):.4f} ± {np.std(rf_scores):.4f}\")"
      ]
    },
    {
      "cell_type": "markdown",
      "metadata": {
        "id": "qwb1bRZKpEMz"
      },
      "source": [
        "---"
      ]
    },
    {
      "cell_type": "markdown",
      "metadata": {
        "id": "ycc-yfqr6Vk4"
      },
      "source": [
        "### By Using This 2nd Trial, Visualization"
      ]
    },
    {
      "cell_type": "markdown",
      "metadata": {
        "id": "FK8NGBnH6e--"
      },
      "source": [
        "**Industry Encoding Distribution**"
      ]
    },
    {
      "cell_type": "code",
      "execution_count": null,
      "metadata": {
        "colab": {
          "background_save": true
        },
        "id": "DcrJ4Eef6cjE",
        "outputId": "538ad203-80b0-4508-ab7b-ed2f89bf7974"
      },
      "outputs": [
        {
          "data": {
            "image/png": "[encoded data removed]",
            "text/plain": [
              "<Figure size 1000x600 with 1 Axes>"
            ]
          },
          "metadata": {},
          "output_type": "display_data"
        }
      ],
      "source": [
        "import matplotlib.pyplot as plt\n",
        "import seaborn as sns\n",
        "\n",
        "plt.figure(figsize=(10, 6))\n",
        "sns.countplot(x=df['industry_encoded'])\n",
        "plt.title('Distribution of Industry Encodings')\n",
        "plt.xlabel('Encoded Industry')\n",
        "plt.ylabel('Count')\n",
        "plt.show()"
      ]
    },
    {
      "cell_type": "markdown",
      "metadata": {
        "id": "Sk-lKWIg6iBk"
      },
      "source": [
        "**TF-IDF Features**"
      ]
    },
    {
      "cell_type": "code",
      "execution_count": null,
      "metadata": {
        "colab": {
          "background_save": true
        },
        "id": "Y-a-_Ryt6lQS",
        "outputId": "940dd0ce-b1e6-40d4-b981-6f78410ca39c"
      },
      "outputs": [
        {
          "data": {
            "image/png": "[encoded data removed]",
            "text/plain": [
              "<Figure size 1000x600 with 1 Axes>"
            ]
          },
          "metadata": {},
          "output_type": "display_data"
        }
      ],
      "source": [
        "# Example: Visualizing the top TF-IDF features for 'speciality'\n",
        "tfidf_spec.fit(df['speciality'])\n",
        "features = tfidf_spec.get_feature_names_out()\n",
        "tfidf_matrix = tfidf_spec.transform(df['speciality'])\n",
        "sum_words = tfidf_matrix.sum(axis=0)\n",
        "words_freq = [(word, sum_words[0, idx]) for word, idx in tfidf_spec.vocabulary_.items()]\n",
        "words_freq = sorted(words_freq, key = lambda x: x[1], reverse=True)\n",
        "top_words = words_freq[:10]\n",
        "\n",
        "# Plot\n",
        "top_words_df = pd.DataFrame(top_words, columns=['Word', 'Frequency'])\n",
        "plt.figure(figsize=(10, 6))\n",
        "sns.barplot(x='Frequency', y='Word', data=top_words_df)\n",
        "plt.title('Top 10 TF-IDF Features for Speciality')\n",
        "plt.show()\n"
      ]
    },
    {
      "cell_type": "markdown",
      "metadata": {
        "id": "rRYzRxaG6vCN"
      },
      "source": [
        "**Performances**"
      ]
    },
    {
      "cell_type": "code",
      "execution_count": null,
      "metadata": {
        "colab": {
          "background_save": true
        },
        "id": "RIHCJ7V06xvx",
        "outputId": "4f15f02e-56c8-41ea-9553-e1b11838ac0c"
      },
      "outputs": [
        {
          "data": {
            "image/png": "[encoded data removed]",
            "text/plain": [
              "<Figure size 1000x600 with 1 Axes>"
            ]
          },
          "metadata": {},
          "output_type": "display_data"
        }
      ],
      "source": [
        "accuracies = {\n",
        "    'SVM': accuracy_svm_final,\n",
        "    'Decision Tree': accuracy_decisionTree_final,\n",
        "    'Random Forest': accuracy_randomForest_final\n",
        "}\n",
        "\n",
        "plt.figure(figsize=(10, 6))\n",
        "plt.bar(accuracies.keys(), accuracies.values())\n",
        "plt.title('Model Accuracy on Test Data')\n",
        "plt.ylabel('Accuracy')\n",
        "plt.show()\n"
      ]
    },
    {
      "cell_type": "markdown",
      "metadata": {
        "id": "b4pi4ZYu65iE"
      },
      "source": [
        "**Confusion Matrices for each Model to Understand their Performances**"
      ]
    },
    {
      "cell_type": "markdown",
      "metadata": {
        "id": "X0spp-kfbOs7"
      },
      "source": [
        "- SVM"
      ]
    },
    {
      "cell_type": "code",
      "execution_count": null,
      "metadata": {
        "colab": {
          "background_save": true
        },
        "id": "g8KhTtOQ67Bb",
        "outputId": "d5d715b8-e8e5-4128-bc78-4356da3cee5e"
      },
      "outputs": [
        {
          "data": {
            "image/png": "[encoded data removed]",
            "text/plain": [
              "<Figure size 1000x1000 with 2 Axes>"
            ]
          },
          "metadata": {},
          "output_type": "display_data"
        }
      ],
      "source": [
        "import matplotlib.pyplot as plt\n",
        "import seaborn as sns\n",
        "from sklearn.metrics import confusion_matrix, ConfusionMatrixDisplay\n",
        "\n",
        "# Assuming you have y_test and y_pred\n",
        "# Compute confusion matrix\n",
        "cm = confusion_matrix(y_test, y_pred_svm)\n",
        "\n",
        "# Normalize confusion matrix\n",
        "cm_normalized = cm.astype('float') / cm.sum(axis=1)[:, np.newaxis]\n",
        "\n",
        "# Plot confusion matrix\n",
        "fig, ax = plt.subplots(figsize=(10, 10))  # Adjust the size as needed\n",
        "sns.heatmap(cm_normalized, annot=False, fmt='.2f', cmap='Blues', cbar=True, ax=ax)\n",
        "\n",
        "# Improve readability\n",
        "plt.title('Normalized SVM Confusion Matrix')\n",
        "plt.xlabel('Predicted Label')\n",
        "plt.ylabel('True Label')\n",
        "plt.xticks(rotation=90)\n",
        "plt.yticks(rotation=0)\n",
        "plt.show()\n"
      ]
    },
    {
      "cell_type": "markdown",
      "metadata": {
        "id": "V4H9IxzubRzs"
      },
      "source": [
        "* Decision Tree"
      ]
    },
    {
      "cell_type": "code",
      "execution_count": null,
      "metadata": {
        "colab": {
          "background_save": true
        },
        "id": "5UaC45BvbTif",
        "outputId": "ef481fdd-48de-4a20-ecfd-79fcd99f7284"
      },
      "outputs": [
        {
          "data": {
            "image/png": "[encoded data removed]",
            "text/plain": [
              "<Figure size 1000x1000 with 2 Axes>"
            ]
          },
          "metadata": {},
          "output_type": "display_data"
        }
      ],
      "source": [
        "# Assuming you have y_test and y_pred\n",
        "# Compute confusion matrix\n",
        "cm = confusion_matrix(y_test, y_pred_decisionTree)\n",
        "\n",
        "# Normalize confusion matrix\n",
        "cm_normalized = cm.astype('float') / cm.sum(axis=1)[:, np.newaxis]\n",
        "\n",
        "# Plot confusion matrix\n",
        "fig, ax = plt.subplots(figsize=(10, 10))  # Adjust the size as needed\n",
        "sns.heatmap(cm_normalized, annot=False, fmt='.2f', cmap='Blues', cbar=True, ax=ax)\n",
        "\n",
        "# Improve readability\n",
        "plt.title('Normalized Decision Tree Confusion Matrix')\n",
        "plt.xlabel('Predicted Label')\n",
        "plt.ylabel('True Label')\n",
        "plt.xticks(rotation=90)\n",
        "plt.yticks(rotation=0)\n",
        "plt.show()\n"
      ]
    },
    {
      "cell_type": "markdown",
      "metadata": {
        "id": "Tz2AEbTDbUC7"
      },
      "source": [
        "* Random Forest"
      ]
    },
    {
      "cell_type": "code",
      "execution_count": null,
      "metadata": {
        "colab": {
          "background_save": true
        },
        "id": "7qBc7TsHbX1o",
        "outputId": "09b37ac9-30ad-4ec9-b680-38e898644d36"
      },
      "outputs": [
        {
          "ename": "NameError",
          "evalue": "name 'y_pred_randomForest' is not defined",
          "output_type": "error",
          "traceback": [
            "\u001b[0;31m---------------------------------------------------------------------------\u001b[0m",
            "\u001b[0;31mNameError\u001b[0m                                 Traceback (most recent call last)",
            "\u001b[0;32m<ipython-input-24-37b3ec914ba6>\u001b[0m in \u001b[0;36m<cell line: 3>\u001b[0;34m()\u001b[0m\n\u001b[1;32m      1\u001b[0m \u001b[0;31m# Assuming you have y_test and y_pred\u001b[0m\u001b[0;34m\u001b[0m\u001b[0;34m\u001b[0m\u001b[0m\n\u001b[1;32m      2\u001b[0m \u001b[0;31m# Compute confusion matrix\u001b[0m\u001b[0;34m\u001b[0m\u001b[0;34m\u001b[0m\u001b[0m\n\u001b[0;32m----> 3\u001b[0;31m \u001b[0mcm\u001b[0m \u001b[0;34m=\u001b[0m \u001b[0mconfusion_matrix\u001b[0m\u001b[0;34m(\u001b[0m\u001b[0my_test\u001b[0m\u001b[0;34m,\u001b[0m \u001b[0my_pred_randomForest\u001b[0m\u001b[0;34m)\u001b[0m\u001b[0;34m\u001b[0m\u001b[0;34m\u001b[0m\u001b[0m\n\u001b[0m\u001b[1;32m      4\u001b[0m \u001b[0;34m\u001b[0m\u001b[0m\n\u001b[1;32m      5\u001b[0m \u001b[0;31m# Normalize confusion matrix\u001b[0m\u001b[0;34m\u001b[0m\u001b[0;34m\u001b[0m\u001b[0m\n",
            "\u001b[0;31mNameError\u001b[0m: name 'y_pred_randomForest' is not defined"
          ]
        }
      ],
      "source": [
        "# Assuming you have y_test and y_pred\n",
        "# Compute confusion matrix\n",
        "cm = confusion_matrix(y_test, y_pred_randomForest)\n",
        "\n",
        "# Normalize confusion matrix\n",
        "cm_normalized = cm.astype('float') / cm.sum(axis=1)[:, np.newaxis]\n",
        "\n",
        "# Plot confusion matrix\n",
        "fig, ax = plt.subplots(figsize=(10, 10))  # Adjust the size as needed\n",
        "sns.heatmap(cm_normalized, annot=False, fmt='.2f', cmap='Blues', cbar=True, ax=ax)\n",
        "\n",
        "# Improve readability\n",
        "plt.title('Normalized RandomForest Confusion Matrix')\n",
        "plt.xlabel('Predicted Label')\n",
        "plt.ylabel('True Label')\n",
        "plt.xticks(rotation=90)\n",
        "plt.yticks(rotation=0)\n",
        "plt.show()\n"
      ]
    },
    {
      "cell_type": "markdown",
      "metadata": {
        "id": "4cT4kty07DY5"
      },
      "source": [
        "**Precision, Recall, and F1 Scores**"
      ]
    },
    {
      "cell_type": "code",
      "execution_count": null,
      "metadata": {
        "colab": {
          "background_save": true
        },
        "id": "uFZb9cf67GSh"
      },
      "outputs": [],
      "source": [
        "from sklearn.metrics import classification_report\n",
        "\n",
        "for name, model in models.items():\n",
        "    y_pred = model.predict(X_test)\n",
        "    print(f\"{name} Classification Report:\\n\")\n",
        "    print(classification_report(y_test, y_pred, target_names=label_encoder.classes_))\n",
        "    print(\"\\n\")\n"
      ]
    },
    {
      "cell_type": "markdown",
      "metadata": {
        "id": "rcez5yW67H94"
      },
      "source": [
        "**Decision Tree and Random Forest - Feature Importances**"
      ]
    },
    {
      "cell_type": "code",
      "execution_count": null,
      "metadata": {
        "colab": {
          "background_save": true
        },
        "id": "alvpL73-7OmA"
      },
      "outputs": [],
      "source": [
        "importances = randomForest_model.named_steps['classifier'].feature_importances_\n",
        "features = tfidf_spec.get_feature_names_out() + tfidf_skill.get_feature_names_out() + ['company_size']\n",
        "\n",
        "# Create DataFrame for visualization\n",
        "feature_importances = pd.DataFrame({'Feature': features, 'Importance': importances})\n",
        "feature_importances = feature_importances.sort_values(by='Importance', ascending=False).head(10)\n",
        "\n",
        "plt.figure(figsize=(10, 6))\n",
        "sns.barplot(x='Importance', y='Feature', data=feature_importances)\n",
        "plt.title('Top 10 Feature Importances in Random Forest')\n",
        "plt.show()\n"
      ]
    },
    {
      "cell_type": "markdown",
      "metadata": {
        "id": "B4p9Qf2H7P7s"
      },
      "source": [
        "**Voting Classifier Performances**"
      ]
    },
    {
      "cell_type": "code",
      "execution_count": null,
      "metadata": {
        "colab": {
          "background_save": true
        },
        "id": "EDFR4gr_7TaF"
      },
      "outputs": [],
      "source": [
        "ensemble_scores_mean = np.mean(ensemble_scores)\n",
        "ensemble_scores_std = np.std(ensemble_scores)\n",
        "\n",
        "plt.figure(figsize=(10, 6))\n",
        "models = ['SVM', 'Decision Tree', 'Random Forest', 'Ensemble']\n",
        "scores_means = [np.mean(svm_scores), np.mean(dt_scores), np.mean(rf_scores), ensemble_scores_mean]\n",
        "scores_stds = [np.std(svm_scores), np.std(dt_scores), np.std(rf_scores), ensemble_scores_std]\n",
        "\n",
        "sns.barplot(x=models, y=scores_means, yerr=scores_stds)\n",
        "plt.title('Model Comparison with Ensemble')\n",
        "plt.ylabel('Cross-Validation Accuracy')\n",
        "plt.show()\n"
      ]
    },
    {
      "cell_type": "markdown",
      "metadata": {
        "id": "-GfXOqa_7Uuz"
      },
      "source": [
        "=> These cover various aspects of pipeline, from data preprocessing to model performance evalutions.<br><br>\n",
        "*Giving a Comprehensive Understanding of how the models are performing and what Factors might affect their Predictions*"
      ]
    }
  ],
  "metadata": {
    "accelerator": "TPU",
    "colab": {
      "gpuType": "V28",
      "machine_shape": "hm",
      "provenance": []
    },
    "kernelspec": {
      "display_name": "Python 3",
      "name": "python3"
    },
    "language_info": {
      "name": "python"
    }
  },
  "nbformat": 4,
  "nbformat_minor": 0
}